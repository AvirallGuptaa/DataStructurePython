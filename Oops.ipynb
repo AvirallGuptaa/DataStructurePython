{
 "cells": [
  {
   "cell_type": "code",
   "execution_count": 1,
   "id": "5ee3f890-41da-47d4-a474-5f237b35189a",
   "metadata": {},
   "outputs": [],
   "source": [
    "\n",
    "#2. Write a basic function that greets students.\n",
    " \n",
    " \n",
    "def greet_students():\n",
    "    print(\"Hello, students!\")\n",
    "\n"
   ]
  },
  {
   "cell_type": "code",
   "execution_count": 2,
   "id": "fef388c8-b0ba-41c4-95af-13e2b962befa",
   "metadata": {},
   "outputs": [],
   "source": [
    "#6. Write a code that generates the squares of numbers from 1 to n using a generator.\n",
    " \n",
    " \n",
    "def square_numbers(n):\n",
    "    for i in range(1, n + 1):\n",
    "        yield i * i\n"
   ]
  },
  {
   "cell_type": "code",
   "execution_count": 3,
   "id": "3ebe4dbd-617d-4675-b00c-5f84344d2b5d",
   "metadata": {},
   "outputs": [],
   "source": [
    "#7. Write a code that generates palindromic numbers up to n using a generator.\n",
    " \n",
    " \n",
    "def palindromic_numbers(n):\n",
    "    for i in range(1, n + 1):\n",
    "        if str(i) == str(i)[::-1]:\n",
    "            yield i\n"
   ]
  },
  {
   "cell_type": "code",
   "execution_count": 4,
   "id": "619309e7-b7f0-42a5-939f-9e53bbf67753",
   "metadata": {},
   "outputs": [],
   "source": [
    "#8. Write a code that generates even numbers from 2 to n using a generator.\n",
    " \n",
    " \n",
    "def even_numbers(n):\n",
    "    for i in range(2, n + 1, 2):\n",
    "        yield i\n"
   ]
  },
  {
   "cell_type": "code",
   "execution_count": 5,
   "id": "63857cb9-60c2-48a3-b590-33fde3f68629",
   "metadata": {},
   "outputs": [],
   "source": [
    "#9. Write a code that generates powers of two up to n using a generator.\n",
    " \n",
    " \n",
    "def powers_of_two(n):\n",
    "    i = 1\n",
    "    while i <= n:\n",
    "        yield i\n",
    "        i *= 2\n"
   ]
  },
  {
   "cell_type": "code",
   "execution_count": 6,
   "id": "6c564d0a-28c7-4d33-8c17-98251279e270",
   "metadata": {},
   "outputs": [],
   "source": [
    "#10. Write a code that generates prime numbers up to n using a generator.\n",
    " \n",
    " \n",
    "def prime_numbers(n):\n",
    "    def is_prime(x):\n",
    "        if x < 2:\n",
    "            return False\n",
    "        for i in range(2, int(x ** 0.5) + 1):\n",
    "            if x % i == 0:\n",
    "                return False\n",
    "        return True\n",
    "\n",
    "    for i in range(2, n + 1):\n",
    "        if is_prime(i):\n",
    "            yield i\n"
   ]
  },
  {
   "cell_type": "code",
   "execution_count": 7,
   "id": "53b0805c-ce45-4ff4-8a40-950ca32ad7a5",
   "metadata": {},
   "outputs": [],
   "source": [
    "#11. Write a code that uses a lambda function to calculate the sum of two numbers.\n",
    " \n",
    " \n",
    "sum_numbers = lambda x, y: x + y\n",
    "    "
   ]
  },
  {
   "cell_type": "code",
   "execution_count": 8,
   "id": "cecbdf6f-879e-4a25-82e2-ab708bd754db",
   "metadata": {},
   "outputs": [],
   "source": [
    "#12. Write a code that uses a lambda function to calculate the square of a given number.\n",
    " \n",
    " \n",
    "square_number = lambda x: x * x\n"
   ]
  },
  {
   "cell_type": "code",
   "execution_count": 9,
   "id": "b619f386-43ff-4d9c-9ae7-769e34f68c98",
   "metadata": {},
   "outputs": [],
   "source": [
    "#13. Write a code that uses a lambda function to check whether a given number is even or odd.\n",
    " \n",
    " \n",
    "is_even = lambda x: x % 2 == 0\n"
   ]
  },
  {
   "cell_type": "code",
   "execution_count": 10,
   "id": "0eadc59c-7fb0-47e6-8de0-160d184c55d4",
   "metadata": {},
   "outputs": [],
   "source": [
    "#14. Write a code that uses a lambda function to concatenate two strings.\n",
    " \n",
    " \n",
    "concatenate_strings = lambda s1, s2: s1 + s2\n",
    "#15. Write a code that uses a lambda function to find the maximum of three given numbers.\n",
    " \n",
    "max_of_three = lambda x, y, z: max(x, y, z)\n",
    "\n",
    "\n"
   ]
  },
  {
   "cell_type": "code",
   "execution_count": 11,
   "id": "ebc4000a-836e-4636-a295-4ec4beb6db5c",
   "metadata": {},
   "outputs": [
    {
     "name": "stdout",
     "output_type": "stream",
     "text": [
      "5\n"
     ]
    }
   ],
   "source": [
    "#16. Write a code that uses a lambda function to find the maximum of three given numbers.\n",
    " \n",
    " \n",
    "max_of_three = lambda x, y, z: max(x, y, z)\n",
    "print(max_of_three(1, 5, 3))  # Example usage\n"
   ]
  },
  {
   "cell_type": "code",
   "execution_count": 12,
   "id": "8faa064a-1549-400b-bede-eb61a6d7e615",
   "metadata": {},
   "outputs": [
    {
     "name": "stdout",
     "output_type": "stream",
     "text": [
      "[4, 16, 36]\n"
     ]
    }
   ],
   "source": [
    "#17. Write a code that generates the squares of even numbers from a given list.\n",
    " \n",
    " \n",
    "def square_even_numbers(lst):\n",
    "    return [x ** 2 for x in lst if x % 2 == 0]\n",
    "\n",
    "numbers = [1, 2, 3, 4, 5, 6]\n",
    "print(square_even_numbers(numbers))  # Example usage\n"
   ]
  },
  {
   "cell_type": "code",
   "execution_count": 16,
   "id": "750b052b-0f22-4bb9-94d7-08f51ab7df57",
   "metadata": {},
   "outputs": [
    {
     "name": "stdout",
     "output_type": "stream",
     "text": [
      "12\n"
     ]
    }
   ],
   "source": [
    "#18. Write a code that calculates the product of positive numbers from a given list.\n",
    " \n",
    " \n",
    "from functools import reduce\n",
    "\n",
    "def product_of_positives(lst):\n",
    "    return reduce(lambda x, y: x * y, filter(lambda x: x > 0, lst))\n",
    "\n",
    "numbers = [1, -2, 3, 4, -5]\n",
    "print(product_of_positives(numbers))  # Example usage\n"
   ]
  },
  {
   "cell_type": "code",
   "execution_count": 17,
   "id": "5e1672dd-8732-417c-bcdb-867dc2d00762",
   "metadata": {},
   "outputs": [
    {
     "name": "stdout",
     "output_type": "stream",
     "text": [
      "[2, 6, 10]\n"
     ]
    }
   ],
   "source": [
    "#19. Write a code that doubles the values of odd numbers from a given list.\n",
    " \n",
    " \n",
    "def double_odds(lst):\n",
    "    return [x * 2 for x in lst if x % 2 != 0]\n",
    "\n",
    "numbers = [1, 2, 3, 4, 5, 6]\n",
    "print(double_odds(numbers))  # Example usage\n"
   ]
  },
  {
   "cell_type": "code",
   "execution_count": 18,
   "id": "c4e81998-d0ec-4521-a8da-e4c15a2efcce",
   "metadata": {},
   "outputs": [
    {
     "name": "stdout",
     "output_type": "stream",
     "text": [
      "100\n"
     ]
    }
   ],
   "source": [
    "#20. Write a code that calculates the sum of cubes of numbers from a given list.\n",
    " \n",
    " \n",
    "def sum_of_cubes(lst):\n",
    "    return sum(x ** 3 for x in lst)\n",
    "\n",
    "numbers = [1, 2, 3, 4]\n",
    "print(sum_of_cubes(numbers))  # Example usage\n",
    "     "
   ]
  },
  {
   "cell_type": "code",
   "execution_count": 19,
   "id": "244d075e-2768-42e2-927e-1fcc1fb6a6d8",
   "metadata": {},
   "outputs": [
    {
     "name": "stdout",
     "output_type": "stream",
     "text": [
      "[2, 3, 5, 7]\n"
     ]
    }
   ],
   "source": [
    "#21. Write a code that filters out prime numbers from a given list.\n",
    " \n",
    " \n",
    "def is_prime(n):\n",
    "    if n < 2:\n",
    "        return False\n",
    "    for i in range(2, int(n ** 0.5) + 1):\n",
    "        if n % i == 0:\n",
    "            return False\n",
    "    return True\n",
    "\n",
    "def filter_primes(lst):\n",
    "    return [x for x in lst if is_prime(x)]\n",
    "\n",
    "numbers = [1, 2, 3, 4, 5, 6, 7, 8, 9, 10]\n",
    "print(filter_primes(numbers))  # Example usage\n"
   ]
  },
  {
   "cell_type": "code",
   "execution_count": 20,
   "id": "3187075e-b146-466b-943e-70fe7fb7d3dd",
   "metadata": {},
   "outputs": [
    {
     "name": "stdout",
     "output_type": "stream",
     "text": [
      "8\n"
     ]
    }
   ],
   "source": [
    "#22. Write a code that uses a lambda function to calculate the sum of two numbers.\n",
    " \n",
    " \n",
    "sum_numbers = lambda x, y: x + y\n",
    "print(sum_numbers(3, 5))  # Example usage\n"
   ]
  },
  {
   "cell_type": "code",
   "execution_count": 21,
   "id": "31cea2d8-7dd7-4b03-a5eb-cdd4b5bece09",
   "metadata": {},
   "outputs": [
    {
     "name": "stdout",
     "output_type": "stream",
     "text": [
      "16\n"
     ]
    }
   ],
   "source": [
    "#23. Write a code that uses a lambda function to calculate the square of a given number.\n",
    " \n",
    " \n",
    "square_number = lambda x: x ** 2\n",
    "print(square_number(4))  # Example usage\n"
   ]
  },
  {
   "cell_type": "code",
   "execution_count": 22,
   "id": "b7321b10-830a-4b3b-a9c1-c19f227130b8",
   "metadata": {},
   "outputs": [
    {
     "name": "stdout",
     "output_type": "stream",
     "text": [
      "True\n",
      "False\n"
     ]
    }
   ],
   "source": [
    "#24. Write a code that uses a lambda function to check whether a given number is even or odd.\n",
    " \n",
    " \n",
    "is_even = lambda x: x % 2 == 0\n",
    "print(is_even(4))  # Example usage\n",
    "print(is_even(5))  # Example usage\n"
   ]
  },
  {
   "cell_type": "code",
   "execution_count": 23,
   "id": "709cb2de-0c12-4a83-964c-dc0ba2651f23",
   "metadata": {},
   "outputs": [
    {
     "name": "stdout",
     "output_type": "stream",
     "text": [
      "Hello, World!\n"
     ]
    }
   ],
   "source": [
    "#25. Write a code that uses a lambda function to concatenate two strings.\n",
    " \n",
    " \n",
    "concatenate_strings = lambda s1, s2: s1 + s2\n",
    "print(concatenate_strings(\"Hello, \", \"World!\"))  # Example usage\n"
   ]
  },
  {
   "cell_type": "code",
   "execution_count": 24,
   "id": "9402c903-0e44-4e79-b0fa-9e1a8ace208c",
   "metadata": {},
   "outputs": [
    {
     "name": "stdout",
     "output_type": "stream",
     "text": [
      "7\n"
     ]
    }
   ],
   "source": [
    "#26. Write a code that uses a lambda function to find the maximum of three given numbers.\n",
    " \n",
    " \n",
    "max_of_three = lambda x, y, z: max(x, y, z)\n",
    "print(max_of_three(3, 7, 5))  # Example usage\n",
    "\n"
   ]
  },
  {
   "cell_type": "code",
   "execution_count": 25,
   "id": "0c28ecff-878e-404d-8c0b-a81620cbb451",
   "metadata": {},
   "outputs": [],
   "source": [
    "#32. Define a parent class Animal with a method make_sound that prints \"Generic animal sound\". Create a child class Dog inheriting from Animal with a method make_sound that prints \"Woof!\".\n",
    " \n",
    " \n",
    "class Animal:\n",
    "    def make_sound(self):\n",
    "        print(\"Generic animal sound\")\n",
    "\n",
    "class Dog(Animal):\n",
    "    def make_sound(self):\n",
    "        print(\"Woof!\")\n"
   ]
  },
  {
   "cell_type": "code",
   "execution_count": 26,
   "id": "cfefdae5-d2bb-4fe1-84ac-7b6b7f1217ff",
   "metadata": {},
   "outputs": [],
   "source": [
    "#33. Define a method move in the Animal class that prints \"Animal moves\". Override the move method in the Dog class to print \"Dog runs\".\n",
    " \n",
    " \n",
    "class Animal:\n",
    "    def move(self):\n",
    "        print(\"Animal moves\")\n",
    "\n",
    "class Dog(Animal):\n",
    "    def move(self):\n",
    "        print(\"Dog runs\")\n"
   ]
  },
  {
   "cell_type": "code",
   "execution_count": 27,
   "id": "0f4e796a-e7c3-40d7-ba48-b912427e8df6",
   "metadata": {},
   "outputs": [],
   "source": [
    "#34. Create a class Mammal with a method reproduce that prints \"Giving birth to live young\". Create a class DogMammal inheriting from both Dog and Mammal.\n",
    " \n",
    " \n",
    "class Mammal:\n",
    "    def reproduce(self):\n",
    "        print(\"Giving birth to live young\")\n",
    "\n",
    "class DogMammal(Dog, Mammal):\n",
    "    pass\n"
   ]
  },
  {
   "cell_type": "code",
   "execution_count": 28,
   "id": "dbc111d5-bde7-4229-a3a7-80033ef336ed",
   "metadata": {},
   "outputs": [],
   "source": [
    "#35. Create a class GermanShepherd inheriting from Dog and override the make_sound method to print \"Bark!\".\n",
    " \n",
    " \n",
    "class GermanShepherd(Dog):\n",
    "    def make_sound(self):\n",
    "        print(\"Bark!\")\n"
   ]
  },
  {
   "cell_type": "code",
   "execution_count": 29,
   "id": "374693f3-8168-4faa-90a0-ce49109bff97",
   "metadata": {},
   "outputs": [
    {
     "name": "stdout",
     "output_type": "stream",
     "text": [
      "Generic Animal\n",
      "Rex\n",
      "German Shepherd\n"
     ]
    }
   ],
   "source": [
    "\n",
    "#36. Define Constructors in the Animal and Dog Classes with Different Initialization Parameters\n",
    " \n",
    " \n",
    "# Define the parent class with a constructor\n",
    "class Animal:\n",
    "    def __init__(self, name):\n",
    "        self.name = name\n",
    "\n",
    "    def make_sound(self):\n",
    "        print(\"Generic animal sound\")\n",
    "\n",
    "# Define the child class with its own constructor\n",
    "class Dog(Animal):\n",
    "    def __init__(self, name, breed):\n",
    "        super().__init__(name)\n",
    "        self.breed = breed\n",
    "\n",
    "    def make_sound(self):\n",
    "        print(\"Woof!\")\n",
    "\n",
    "# Example usage\n",
    "animal = Animal(\"Generic Animal\")\n",
    "print(animal.name)  # Output: Generic Animal\n",
    "\n",
    "dog = Dog(\"Rex\", \"German Shepherd\")\n",
    "print(dog.name)  # Output: Rex\n",
    "print(dog.breed)  # Output: German Shepherd\n",
    "\n"
   ]
  },
  {
   "cell_type": "code",
   "execution_count": 30,
   "id": "43322a2f-0a6f-49bf-806f-7369a365fdc3",
   "metadata": {},
   "outputs": [
    {
     "name": "stdout",
     "output_type": "stream",
     "text": [
      "Woof!\n",
      "Dog runs\n",
      "Meow!\n",
      "Cat jumps\n"
     ]
    }
   ],
   "source": [
    "#41. Can You Provide an Example of How Abstraction Can Be Utilized to Create a Common Interface for a Group of Related Classes in  ?\n",
    "\n",
    " \n",
    " \n",
    "from abc import ABC, abstractmethod\n",
    "\n",
    "# Define an abstract base class\n",
    "class Animal(ABC):\n",
    "    @abstractmethod\n",
    "    def make_sound(self):\n",
    "        pass\n",
    "\n",
    "    @abstractmethod\n",
    "    def move(self):\n",
    "        pass\n",
    "\n",
    "# Define concrete classes\n",
    "class Dog(Animal):\n",
    "    def make_sound(self):\n",
    "        print(\"Woof!\")\n",
    "\n",
    "    def move(self):\n",
    "        print(\"Dog runs\")\n",
    "\n",
    "class Cat(Animal):\n",
    "    def make_sound(self):\n",
    "        print(\"Meow!\")\n",
    "\n",
    "    def move(self):\n",
    "        print(\"Cat jumps\")\n",
    "\n",
    "# Example usage\n",
    "def animal_actions(animal):\n",
    "    animal.make_sound()\n",
    "    animal.move()\n",
    "\n",
    "dog = Dog()\n",
    "cat = Cat()\n",
    "\n",
    "animal_actions(dog)  # Output: Woof! \\n Dog runs\n",
    "animal_actions(cat)  # Output: Meow! \\n Cat jumps\n",
    "\n"
   ]
  },
  {
   "cell_type": "code",
   "execution_count": 31,
   "id": "c7ccb2ad-7f66-4220-bb48-a40adad62e79",
   "metadata": {},
   "outputs": [
    {
     "name": "stdout",
     "output_type": "stream",
     "text": [
      "Base display\n",
      "Subclass display\n"
     ]
    }
   ],
   "source": [
    "\n",
    "#43. Define a Base Class with a Method and a Subclass that Overrides the Method\n",
    " \n",
    " \n",
    "# Define the base class\n",
    "class Base:\n",
    "    def display(self):\n",
    "        print(\"Base display\")\n",
    "\n",
    "# Define the subclass\n",
    "class Subclass(Base):\n",
    "    def display(self):\n",
    "        print(\"Subclass display\")\n",
    "\n",
    "# Example usage\n",
    "base = Base()\n",
    "base.display()  # Output: Base display\n",
    "\n",
    "sub = Subclass()\n",
    "sub.display()  # Output: Subclass display\n"
   ]
  },
  {
   "cell_type": "code",
   "execution_count": 32,
   "id": "49252078-35a4-42e5-868e-2c7996355ac6",
   "metadata": {},
   "outputs": [
    {
     "name": "stdout",
     "output_type": "stream",
     "text": [
      "Woof!\n",
      "Meow!\n",
      "Moo!\n"
     ]
    }
   ],
   "source": [
    "#44. Define a Base Class and Multiple Subclasses with Overridden Methods\n",
    " \n",
    " \n",
    "# Define the base class\n",
    "class Animal:\n",
    "    def make_sound(self):\n",
    "        print(\"Animal sound\")\n",
    "\n",
    "# Define subclasses\n",
    "class Dog(Animal):\n",
    "    def make_sound(self):\n",
    "        print(\"Woof!\")\n",
    "\n",
    "class Cat(Animal):\n",
    "    def make_sound(self):\n",
    "        print(\"Meow!\")\n",
    "\n",
    "class Cow(Animal):\n",
    "    def make_sound(self):\n",
    "        print(\"Moo!\")\n",
    "\n",
    "# Example usage\n",
    "animals = [Dog(), Cat(), Cow()]\n",
    "\n",
    "for animal in animals:\n",
    "    animal.make_sound()\n",
    "    # Output: Woof!\n",
    "    #         Meow!\n",
    "    #         Moo!\n"
   ]
  },
  {
   "cell_type": "code",
   "execution_count": 34,
   "id": "dde26f3d-9be3-44c1-9ba9-89476563a885",
   "metadata": {},
   "outputs": [
    {
     "name": "stdout",
     "output_type": "stream",
     "text": [
      "Bird flies\n",
      "Airplane flies\n"
     ]
    }
   ],
   "source": [
    "#46. Describe How   Supports Polymorphism with Duck Typing\n",
    "#supports polymorphism through duck typing, which means that the type or class of an object is less important than the methods it defines or the behaviors it supports. If an object implements the required methods, it can be used interchangeably with other objects that implement the same methods, regardless of their actual type.\n",
    "\n",
    " \n",
    " \n",
    "class Bird:\n",
    "    def fly(self):\n",
    "        print(\"Bird flies\")\n",
    "\n",
    "class Airplane:\n",
    "    def fly(self):\n",
    "        print(\"Airplane flies\")\n",
    "\n",
    "def let_it_fly(flying_thing):\n",
    "    flying_thing.fly()\n",
    "\n",
    "bird = Bird()\n",
    "airplane = Airplane()\n",
    "\n",
    "let_it_fly(bird)      # Output: Bird flies\n",
    "let_it_fly(airplane)  # Output: Airplane flies\n",
    "\n"
   ]
  },
  {
   "cell_type": "code",
   "execution_count": null,
   "id": "47d12e35-dc08-42af-a859-fc4f3543eba4",
   "metadata": {},
   "outputs": [],
   "source": []
  },
  {
   "cell_type": "code",
   "execution_count": 35,
   "id": "20adc8ee-ad07-4b8a-a73a-aebc19953df8",
   "metadata": {},
   "outputs": [
    {
     "name": "stdout",
     "output_type": "stream",
     "text": [
      "1300\n"
     ]
    }
   ],
   "source": [
    "#49. Implement a Class BankAccount with a Private Balance Attribute. Include Methods to Deposit, Withdraw, and Check the Balance\n",
    " \n",
    " \n",
    "class BankAccount:\n",
    "    def __init__(self, balance):\n",
    "        self.__balance = balance  # Private attribute\n",
    "\n",
    "    def deposit(self, amount):\n",
    "        if amount > 0:\n",
    "            self.__balance += amount\n",
    "\n",
    "    def withdraw(self, amount):\n",
    "        if amount > 0 and amount <= self.__balance:\n",
    "            self.__balance -= amount\n",
    "\n",
    "    def check_balance(self):\n",
    "        return self.__balance\n",
    "\n",
    "# Example usage\n",
    "account = BankAccount(1000)\n",
    "account.deposit(500)\n",
    "account.withdraw(200)\n",
    "print(account.check_balance())  # Output: 1300\n"
   ]
  },
  {
   "cell_type": "code",
   "execution_count": 36,
   "id": "79156ecc-7aae-4885-84ef-005e37886fe1",
   "metadata": {},
   "outputs": [
    {
     "name": "stdout",
     "output_type": "stream",
     "text": [
      "alice@example.com\n",
      "alice.new@example.com\n"
     ]
    }
   ],
   "source": [
    "#50. Develop a Person Class with Private Attributes for Name and Email, and Methods to Set and Get the Email\n",
    " \n",
    " \n",
    "class Person:\n",
    "    def __init__(self, name, email):\n",
    "        self.__name = name  # Private attribute\n",
    "        self.__email = email  # Private attribute\n",
    "\n",
    "    def set_email(self, email):\n",
    "        self.__email = email\n",
    "\n",
    "    def get_email(self):\n",
    "        return self.__email\n",
    "\n",
    "# Example usage\n",
    "person = Person(\"Alice\", \"alice@example.com\")\n",
    "print(person.get_email())  # Output: alice@example.com\n",
    "person.set_email(\"alice.new@example.com\")\n",
    "print(person.get_email())  # Output: alice.new@example.com\n",
    "\n"
   ]
  },
  {
   "cell_type": "code",
   "execution_count": 37,
   "id": "17600c20-a435-4e43-82f1-d353f00a6b22",
   "metadata": {},
   "outputs": [
    {
     "name": "stdout",
     "output_type": "stream",
     "text": [
      "Before function execution\n",
      "Hello, Alice!\n",
      "After function execution\n"
     ]
    }
   ],
   "source": [
    "\n",
    "#52. Create a decorator in   that adds functionality to a simple function by printing a message before and after the function execution.\n",
    " \n",
    " \n",
    "def simple_decorator(func):\n",
    "    def wrapper(*args, **kwargs):\n",
    "        print(\"Before function execution\")\n",
    "        result = func(*args, **kwargs)\n",
    "        print(\"After function execution\")\n",
    "        return result\n",
    "    return wrapper\n",
    "\n",
    "@simple_decorator\n",
    "def greet(name):\n",
    "    print(f\"Hello, {name}!\")\n",
    "\n",
    "greet(\"Alice\")\n",
    "\n"
   ]
  },
  {
   "cell_type": "code",
   "execution_count": 38,
   "id": "650eab8d-f07b-4191-9d11-ff1f9a2ebdf9",
   "metadata": {},
   "outputs": [
    {
     "name": "stdout",
     "output_type": "stream",
     "text": [
      "Executing - Function name: greet\n",
      "Hello, Alice!\n",
      "Executing - Function name: greet\n"
     ]
    }
   ],
   "source": [
    "#53. Modify the decorator to accept arguments and print the function name along with the message.\n",
    " \n",
    " \n",
    "def simple_decorator(message):\n",
    "    def decorator(func):\n",
    "        def wrapper(*args, **kwargs):\n",
    "            print(f\"{message} - Function name: {func.__name__}\")\n",
    "            result = func(*args, **kwargs)\n",
    "            print(f\"{message} - Function name: {func.__name__}\")\n",
    "            return result\n",
    "        return wrapper\n",
    "    return decorator\n",
    "\n",
    "@simple_decorator(\"Executing\")\n",
    "def greet(name):\n",
    "    print(f\"Hello, {name}!\")\n",
    "\n",
    "greet(\"Alice\")\n"
   ]
  },
  {
   "cell_type": "code",
   "execution_count": 39,
   "id": "ce024e3d-2918-47cc-b7d9-e618f0b7ccac",
   "metadata": {},
   "outputs": [
    {
     "name": "stdout",
     "output_type": "stream",
     "text": [
      "Decorator One - Before\n",
      "Decorator Two - Before\n",
      "Hello, Alice!\n",
      "Decorator Two - After\n",
      "Decorator One - After\n"
     ]
    }
   ],
   "source": [
    "#54. Create a few decorators and apply them to a single function. Ensure that they execute in the order they are applied.\n",
    " \n",
    " \n",
    "def decorator_one(func):\n",
    "    def wrapper(*args, **kwargs):\n",
    "        print(\"Decorator One - Before\")\n",
    "        result = func(*args, **kwargs)\n",
    "        print(\"Decorator One - After\")\n",
    "        return result\n",
    "    return wrapper\n",
    "\n",
    "def decorator_two(func):\n",
    "    def wrapper(*args, **kwargs):\n",
    "        print(\"Decorator Two - Before\")\n",
    "        result = func(*args, **kwargs)\n",
    "        print(\"Decorator Two - After\")\n",
    "        return result\n",
    "    return wrapper\n",
    "\n",
    "@decorator_one\n",
    "@decorator_two\n",
    "def greet(name):\n",
    "    print(f\"Hello, {name}!\")\n",
    "\n",
    "greet(\"Alice\")\n"
   ]
  },
  {
   "cell_type": "code",
   "execution_count": 40,
   "id": "c03687bb-8ce2-435b-a44d-de156d173c03",
   "metadata": {},
   "outputs": [
    {
     "name": "stdout",
     "output_type": "stream",
     "text": [
      "Executing - Function name: greet\n",
      "Hi, Alice!\n",
      "Executing - Function name: greet\n"
     ]
    }
   ],
   "source": [
    "#55. Modify the decorator to accept and pass function arguments to the wrapped function.\n",
    " \n",
    " \n",
    "def simple_decorator(message):\n",
    "    def decorator(func):\n",
    "        def wrapper(*args, **kwargs):\n",
    "            print(f\"{message} - Function name: {func.__name__}\")\n",
    "            result = func(*args, **kwargs)\n",
    "            print(f\"{message} - Function name: {func.__name__}\")\n",
    "            return result\n",
    "        return wrapper\n",
    "    return decorator\n",
    "\n",
    "@simple_decorator(\"Executing\")\n",
    "def greet(name, greeting=\"Hello\"):\n",
    "    print(f\"{greeting}, {name}!\")\n",
    "\n",
    "greet(\"Alice\", greeting=\"Hi\")\n"
   ]
  },
  {
   "cell_type": "code",
   "execution_count": 41,
   "id": "c172b226-1b7f-451d-86fe-7b0edc0a546d",
   "metadata": {},
   "outputs": [
    {
     "name": "stdout",
     "output_type": "stream",
     "text": [
      "Function name: greet\n",
      "Function docstring: Greets the person with the provided name.\n",
      "Hello, Alice!\n"
     ]
    }
   ],
   "source": [
    "#56. Create a decorator that reserves the metadata of the original function.\n",
    " \n",
    " \n",
    "import functools\n",
    "\n",
    "def metadata_preserving_decorator(func):\n",
    "    @functools.wraps(func)\n",
    "    def wrapper(*args, **kwargs):\n",
    "        print(f\"Function name: {func.__name__}\")\n",
    "        print(f\"Function docstring: {func.__doc__}\")\n",
    "        result = func(*args, **kwargs)\n",
    "        return result\n",
    "    return wrapper\n",
    "\n",
    "@metadata_preserving_decorator\n",
    "def greet(name):\n",
    "    \"\"\"Greets the person with the provided name.\"\"\"\n",
    "    print(f\"Hello, {name}!\")\n",
    "\n",
    "greet(\"Alice\")\n"
   ]
  },
  {
   "cell_type": "code",
   "execution_count": 42,
   "id": "d39d05ec-3ca1-4b8c-8be7-145d3ee36b59",
   "metadata": {},
   "outputs": [
    {
     "name": "stdout",
     "output_type": "stream",
     "text": [
      "15\n"
     ]
    }
   ],
   "source": [
    "#57. Create a   class Calculator with a static method add that takes in two numbers and returns their sum.\n",
    " \n",
    " \n",
    "class Calculator:\n",
    "    @staticmethod\n",
    "    def add(x, y):\n",
    "        return x + y\n",
    "\n",
    "# Example usage\n",
    "result = Calculator.add(10, 5)\n",
    "print(result)  # Output: 15\n"
   ]
  },
  {
   "cell_type": "code",
   "execution_count": 43,
   "id": "2dbe30ab-6f39-4da0-94c7-6b459bdf58c8",
   "metadata": {},
   "outputs": [
    {
     "name": "stdout",
     "output_type": "stream",
     "text": [
      "2\n"
     ]
    }
   ],
   "source": [
    "#58. Create a   class Employee with a class method get_employee_count that returns the total number of employees created.\n",
    " \n",
    " \n",
    "class Employee:\n",
    "    employee_count = 0\n",
    "\n",
    "    def __init__(self, name):\n",
    "        self.name = name\n",
    "        Employee.employee_count += 1\n",
    "\n",
    "    @classmethod\n",
    "    def get_employee_count(cls):\n",
    "        return cls.employee_count\n",
    "\n",
    "# Example usage\n",
    "e1 = Employee(\"Alice\")\n",
    "e2 = Employee(\"Bob\")\n",
    "print(Employee.get_employee_count())  # Output: 2\n"
   ]
  },
  {
   "cell_type": "code",
   "execution_count": 44,
   "id": "125974f5-97c1-446c-90e6-02440439c58a",
   "metadata": {},
   "outputs": [
    {
     "name": "stdout",
     "output_type": "stream",
     "text": [
      "olleh\n"
     ]
    }
   ],
   "source": [
    "#59. Create a   class StringManipulator with a static method reverse_string that takes in a string and returns its reverse.\n",
    " \n",
    " \n",
    "class StringManipulator:\n",
    "    @staticmethod\n",
    "    def reverse_string(s):\n",
    "        return s[::-1]\n",
    "\n",
    "# Example usage\n",
    "result = StringManipulator.reverse_string(\"hello\")\n",
    "print(result)  # Output: \"olleh\"\n"
   ]
  },
  {
   "cell_type": "code",
   "execution_count": 45,
   "id": "b9b8e619-3079-4508-a468-eca75f298901",
   "metadata": {},
   "outputs": [
    {
     "name": "stdout",
     "output_type": "stream",
     "text": [
      "78.53981633974483\n"
     ]
    }
   ],
   "source": [
    "#60. Create a   class Circle with a class method calculate_area that calculates the area of a circle given its radius.\n",
    " \n",
    " \n",
    "import math\n",
    "\n",
    "class Circle:\n",
    "    @staticmethod\n",
    "    def calculate_area(radius):\n",
    "        return math.pi * (radius ** 2)\n",
    "\n",
    "# Example usage\n",
    "area = Circle.calculate_area(5)\n",
    "print(area)  # Output: 78.53981633974483\n"
   ]
  },
  {
   "cell_type": "code",
   "execution_count": 46,
   "id": "918fd78e-7aaf-4b7a-b16e-a22651749800",
   "metadata": {},
   "outputs": [
    {
     "name": "stdout",
     "output_type": "stream",
     "text": [
      "77.0\n"
     ]
    }
   ],
   "source": [
    "#61. Create a   class TemperatureConverter with a static method celsius_to_fahrenheit that converts Celsius to Fahrenheit.\n",
    " \n",
    " \n",
    "class TemperatureConverter:\n",
    "    @staticmethod\n",
    "    def celsius_to_fahrenheit(celsius):\n",
    "        return (celsius * 9/5) + 32\n",
    "\n",
    "# Example usage\n",
    "fahrenheit = TemperatureConverter.celsius_to_fahrenheit(25)\n",
    "print(fahrenheit)  # Output: 77.0\n",
    "\n"
   ]
  },
  {
   "cell_type": "code",
   "execution_count": null,
   "id": "50fd992b-9cbb-411b-b547-63b4b3eabf2b",
   "metadata": {},
   "outputs": [],
   "source": []
  }
 ],
 "metadata": {
  "kernelspec": {
   "display_name": "Python 3 (ipykernel)",
   "language": "python",
   "name": "python3"
  },
  "language_info": {
   "codemirror_mode": {
    "name": "ipython",
    "version": 3
   },
   "file_extension": ".py",
   "mimetype": "text/x-python",
   "name": "python",
   "nbconvert_exporter": "python",
   "pygments_lexer": "ipython3",
   "version": "3.10.8"
  }
 },
 "nbformat": 4,
 "nbformat_minor": 5
}
