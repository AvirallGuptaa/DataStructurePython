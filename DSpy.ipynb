{
 "cells": [
  {
   "cell_type": "code",
   "execution_count": 1,
   "id": "8624705a-b8a7-4858-b528-cce1db073e6c",
   "metadata": {},
   "outputs": [
    {
     "name": "stdout",
     "output_type": "stream",
     "text": [
      "olleh\n"
     ]
    }
   ],
   "source": [
    "#Write code to reverse a string:\n",
    "\n",
    "def reverse_string(s):\n",
    "    return s[::-1]\n",
    "\n",
    "# Example usage:\n",
    "s = \"hello\"\n",
    "print(reverse_string(s))  # Output: \"olleh\""
   ]
  },
  {
   "cell_type": "code",
   "execution_count": 2,
   "id": "fee881bd-63e3-4268-961f-9e506a127bac",
   "metadata": {},
   "outputs": [
    {
     "name": "stdout",
     "output_type": "stream",
     "text": [
      "2\n"
     ]
    }
   ],
   "source": [
    "#Write code to count the number of vowels in a string:\n",
    "\n",
    "def count_vowels(s):\n",
    "    vowels = \"aeiouAEIOU\"\n",
    "    return sum(1 for char in s if char in vowels)\n",
    "\n",
    "# Example usage:\n",
    "s = \"hello\"\n",
    "print(count_vowels(s))  # Output: 2"
   ]
  },
  {
   "cell_type": "code",
   "execution_count": 3,
   "id": "d4e430fe-6137-4c50-82d0-b593a562545d",
   "metadata": {},
   "outputs": [
    {
     "name": "stdout",
     "output_type": "stream",
     "text": [
      "True\n"
     ]
    }
   ],
   "source": [
    "#Write code to check if a given string is a palindrome or not:\n",
    "\n",
    "def is_palindrome(s):\n",
    "    return s == s[::-1]\n",
    "\n",
    "# Example usage:\n",
    "s = \"racecar\"\n",
    "print(is_palindrome(s))  # Output: True"
   ]
  },
  {
   "cell_type": "code",
   "execution_count": 4,
   "id": "e50c261b-4bcf-415b-8a67-81574fcf7757",
   "metadata": {},
   "outputs": [
    {
     "name": "stdout",
     "output_type": "stream",
     "text": [
      "True\n"
     ]
    }
   ],
   "source": [
    "#Write code to check if two given strings are anagrams of each other:\n",
    "\n",
    "def are_anagrams(s1, s2):\n",
    "    return sorted(s1) == sorted(s2)\n",
    "\n",
    "# Example usage:\n",
    "s1 = \"listen\"\n",
    "s2 = \"silent\"\n",
    "print(are_anagrams(s1, s2))  # Output: True"
   ]
  },
  {
   "cell_type": "code",
   "execution_count": 5,
   "id": "7257f195-1d9e-4961-89a4-399fc884f887",
   "metadata": {},
   "outputs": [
    {
     "name": "stdout",
     "output_type": "stream",
     "text": [
      "[1, 3]\n"
     ]
    }
   ],
   "source": [
    "#Write code to find all occurrences of a given substring within another string:\n",
    "\n",
    "def find_all_occurrences(s, sub):\n",
    "    return [i for i in range(len(s)) if s.startswith(sub, i)]\n",
    "\n",
    "# Example usage:\n",
    "s = \"banana\"\n",
    "sub = \"ana\"\n",
    "print(find_all_occurrences(s, sub))  # Output: [1, 3]\n"
   ]
  },
  {
   "cell_type": "code",
   "execution_count": 7,
   "id": "ccfa87c8-e285-49d0-9a60-825a8813fd80",
   "metadata": {},
   "outputs": [
    {
     "name": "stdout",
     "output_type": "stream",
     "text": [
      "a2b1c5a3\n"
     ]
    }
   ],
   "source": [
    "#Write code to perform basic string compression using the counts of repeated characters:\n",
    "\n",
    "def compress_string(s):\n",
    "    if not s:\n",
    "        return \"\"\n",
    "    \n",
    "    compressed = []\n",
    "    count = 1\n",
    "    for i in range(1, len(s)):\n",
    "        if s[i] == s[i-1]:\n",
    "            count += 1\n",
    "        else:\n",
    "            compressed.append(s[i-1] + str(count))\n",
    "            count = 1\n",
    "    compressed.append(s[-1] + str(count))\n",
    "    \n",
    "    return ''.join(compressed)\n",
    "\n",
    "# Example usage:\n",
    "s = \"aabcccccaaa\"\n",
    "print(compress_string(s))  # Output: \"a2b1c5a3\"\n"
   ]
  },
  {
   "cell_type": "code",
   "execution_count": 9,
   "id": "94fcaaeb-b4e8-4c5d-9f79-7447f3ab19c6",
   "metadata": {},
   "outputs": [
    {
     "name": "stdout",
     "output_type": "stream",
     "text": [
      "True\n"
     ]
    }
   ],
   "source": [
    "#Write code to determine if a string has all unique characters:\n",
    "\n",
    "def has_unique_chars(s):\n",
    "    return len(set(s)) == len(s)\n",
    "\n",
    "# Example usage:\n",
    "s = \"abcdef\"\n",
    "print(has_unique_chars(s))  # Output: True"
   ]
  },
  {
   "cell_type": "code",
   "execution_count": 11,
   "id": "25b57fdb-70fe-4a5f-8371-3321fc051cac",
   "metadata": {},
   "outputs": [
    {
     "name": "stdout",
     "output_type": "stream",
     "text": [
      "HELLO WORLD\n",
      "hello world\n"
     ]
    }
   ],
   "source": [
    "#Write code to convert a given string to uppercase or lowercase:\n",
    "\n",
    "def to_uppercase(s):\n",
    "    return s.upper()\n",
    "\n",
    "def to_lowercase(s):\n",
    "    return s.lower()\n",
    "\n",
    "# Example usage:\n",
    "s = \"Hello World\"\n",
    "print(to_uppercase(s))  # Output: \"HELLO WORLD\"\n",
    "print(to_lowercase(s))  # Output: \"hello world\""
   ]
  },
  {
   "cell_type": "code",
   "execution_count": 12,
   "id": "c91b58ba-8a6b-4e5a-bb98-582ed376ac84",
   "metadata": {},
   "outputs": [
    {
     "name": "stdout",
     "output_type": "stream",
     "text": [
      "6\n"
     ]
    }
   ],
   "source": [
    "#Write code to count the number of words in a string:\n",
    "\n",
    "def count_words(s):\n",
    "    return len(s.split())\n",
    "\n",
    "# Example usage:\n",
    "s = \"Hello world, this is a test\"\n",
    "print(count_words(s))  # Output: 6"
   ]
  },
  {
   "cell_type": "code",
   "execution_count": 13,
   "id": "02963f7c-f2f3-4a5a-a681-83af7444a607",
   "metadata": {},
   "outputs": [
    {
     "name": "stdout",
     "output_type": "stream",
     "text": [
      "Hello World\n"
     ]
    }
   ],
   "source": [
    "#Write code to concatenate two strings without using the + operator:\n",
    "\n",
    "def concatenate_strings(s1, s2):\n",
    "    return \"{}{}\".format(s1, s2)\n",
    "\n",
    "# Example usage:\n",
    "s1 = \"Hello \"\n",
    "s2 = \"World\"\n",
    "print(concatenate_strings(s1, s2))  # Output: \"Hello World\""
   ]
  },
  {
   "cell_type": "code",
   "execution_count": 14,
   "id": "0c447827-38ec-4c4f-bbc9-04adf8c86815",
   "metadata": {},
   "outputs": [
    {
     "name": "stdout",
     "output_type": "stream",
     "text": [
      "[1, 2, 4, 5]\n"
     ]
    }
   ],
   "source": [
    "#Write code to remove all occurrences of a specific element from a list:\n",
    "\n",
    "def remove_occurrences(lst, element):\n",
    "    return [x for x in lst if x != element]\n",
    "\n",
    "# Example usage:\n",
    "lst = [1, 2, 3, 4, 3, 5]\n",
    "element = 3\n",
    "print(remove_occurrences(lst, element))  # Output: [1, 2, 4, 5]"
   ]
  },
  {
   "cell_type": "code",
   "execution_count": 15,
   "id": "d1fa7a83-3931-434c-ba14-28edc90361ea",
   "metadata": {},
   "outputs": [
    {
     "name": "stdout",
     "output_type": "stream",
     "text": [
      "4\n"
     ]
    }
   ],
   "source": [
    "#Implement code to find the second largest number in a given list of integers:\n",
    "\n",
    "def second_largest(lst):\n",
    "    unique_lst = list(set(lst))\n",
    "    unique_lst.sort()\n",
    "    return unique_lst[-2] if len(unique_lst) > 1 else None\n",
    "\n",
    "# Example usage:\n",
    "lst = [1, 2, 3, 4, 5]\n",
    "print(second_largest(lst))  # Output: 4"
   ]
  },
  {
   "cell_type": "code",
   "execution_count": 16,
   "id": "025b5ca3-d5f5-4ddf-a413-519b800eb9c0",
   "metadata": {},
   "outputs": [
    {
     "name": "stdout",
     "output_type": "stream",
     "text": [
      "{1: 1, 2: 2, 3: 3}\n"
     ]
    }
   ],
   "source": [
    "#Create code to count the occurrences of each element in a list and return a dictionary with elements as keys and their counts as values:\n",
    "def count_elements(lst):\n",
    "    element_counts = {}\n",
    "    for element in lst:\n",
    "        if element in element_counts:\n",
    "            element_counts[element] += 1\n",
    "        else:\n",
    "            element_counts[element] = 1\n",
    "    return element_counts\n",
    "\n",
    "# Example usage:\n",
    "lst = [1, 2, 2, 3, 3, 3]\n",
    "print(count_elements(lst))  # Output: {1: 1, 2: 2, 3: 3}"
   ]
  },
  {
   "cell_type": "code",
   "execution_count": 17,
   "id": "5f0115ef-1125-4a26-bf78-4170a303c3a3",
   "metadata": {},
   "outputs": [
    {
     "name": "stdout",
     "output_type": "stream",
     "text": [
      "[5, 4, 3, 2, 1]\n"
     ]
    }
   ],
   "source": [
    "#Write code to reverse a list in-place without using any built-in reverse function:\n",
    "\n",
    "def reverse_list(lst):\n",
    "    left, right = 0, len(lst) - 1\n",
    "    while left < right:\n",
    "        lst[left], lst[right] = lst[right], lst[left]\n",
    "        left += 1\n",
    "        right -= 1\n",
    "    return lst\n",
    "\n",
    "# Example usage:\n",
    "lst = [1, 2, 3, 4, 5]\n",
    "print(reverse_list(lst))  # Output: [5, 4, 3, 2, 1]"
   ]
  },
  {
   "cell_type": "code",
   "execution_count": 18,
   "id": "f218f74b-48ed-4a9b-bc23-123dc450fbd3",
   "metadata": {},
   "outputs": [
    {
     "name": "stdout",
     "output_type": "stream",
     "text": [
      "[1, 2, 3, 4]\n"
     ]
    }
   ],
   "source": [
    "#Implement code to find and remove duplicates from a list while preserving the original order of elements:\n",
    "def remove_duplicates(lst):\n",
    "    seen = set()\n",
    "    result = []\n",
    "    for element in lst:\n",
    "        if element not in seen:\n",
    "            result.append(element)\n",
    "            seen.add(element)\n",
    "    return result\n",
    "\n",
    "# Example usage:\n",
    "lst = [1, 2, 2, 3, 3, 3, 4]\n",
    "print(remove_duplicates(lst))  # Output: [1, 2, 3, 4]"
   ]
  },
  {
   "cell_type": "code",
   "execution_count": 19,
   "id": "ef9fd9f3-5159-43bf-9da2-09fa5047da22",
   "metadata": {},
   "outputs": [
    {
     "name": "stdout",
     "output_type": "stream",
     "text": [
      "True\n"
     ]
    }
   ],
   "source": [
    "#Create code to check if a given list is sorted (either in ascending or descending order) or not:\n",
    "\n",
    "def is_sorted(lst):\n",
    "    return lst == sorted(lst) or lst == sorted(lst, reverse=True)\n",
    "\n",
    "# Example usage:\n",
    "lst = [1, 2, 3, 4, 5]\n",
    "print(is_sorted(lst))  # Output: True"
   ]
  },
  {
   "cell_type": "code",
   "execution_count": 21,
   "id": "95fea5de-5098-4e46-9c8e-331f528cbb6b",
   "metadata": {},
   "outputs": [
    {
     "name": "stdout",
     "output_type": "stream",
     "text": [
      "[1, 2, 3, 4, 5, 6]\n"
     ]
    }
   ],
   "source": [
    "#Write code to merge two sorted lists into a single sorted list:\n",
    "def merge_sorted_lists(lst1, lst2):\n",
    "    merged_list = []\n",
    "    i, j = 0, 0\n",
    "    while i < len(lst1) and j < len(lst2):\n",
    "        if lst1[i] < lst2[j]:\n",
    "            merged_list.append(lst1[i])\n",
    "            i += 1\n",
    "        else:\n",
    "            merged_list.append(lst2[j])\n",
    "            j += 1\n",
    "    merged_list.extend(lst1[i:])\n",
    "    merged_list.extend(lst2[j:])\n",
    "    return merged_list\n",
    "\n",
    "# Example usage:\n",
    "lst1 = [1, 3, 5]\n",
    "lst2 = [2, 4, 6]\n",
    "print(merge_sorted_lists(lst1, lst2))  # Output: [1, 2, 3, 4, 5, 6]\n"
   ]
  },
  {
   "cell_type": "code",
   "execution_count": 22,
   "id": "56d7724a-6a4f-4161-9e5c-faf6e0849da4",
   "metadata": {},
   "outputs": [
    {
     "name": "stdout",
     "output_type": "stream",
     "text": [
      "[3, 4]\n"
     ]
    }
   ],
   "source": [
    "#Implement code to find the intersection of two given lists:\n",
    "\n",
    "def list_intersection(lst1, lst2):\n",
    "    return list(set(lst1) & set(lst2))\n",
    "\n",
    "# Example usage:\n",
    "lst1 = [1, 2, 3, 4]\n",
    "lst2 = [3, 4, 5, 6]\n",
    "print(list_intersection(lst1, lst2))  # Output: [3, 4]"
   ]
  },
  {
   "cell_type": "code",
   "execution_count": 23,
   "id": "cb6a4dfc-8b29-4ea2-8815-6c796c3d650a",
   "metadata": {},
   "outputs": [
    {
     "name": "stdout",
     "output_type": "stream",
     "text": [
      "[1, 2, 3, 4, 5]\n"
     ]
    }
   ],
   "source": [
    "#Create code to find the union of two lists without duplicates:\n",
    "def list_union(lst1, lst2):\n",
    "    return list(set(lst1) | set(lst2))\n",
    "\n",
    "# Example usage:\n",
    "lst1 = [1, 2, 3]\n",
    "lst2 = [3, 4, 5]\n",
    "print(list_union(lst1, lst2))  # Output: [1, 2, 3, 4, 5]"
   ]
  },
  {
   "cell_type": "code",
   "execution_count": 24,
   "id": "2b5dacef-7079-4ac6-8907-86093475bddc",
   "metadata": {},
   "outputs": [
    {
     "name": "stdout",
     "output_type": "stream",
     "text": [
      "[2, 5, 1, 3, 4]\n"
     ]
    }
   ],
   "source": [
    "#Write code to shuffle a given list randomly without using any built-in shuffle function:\n",
    "\n",
    "import random\n",
    "\n",
    "def shuffle_list(lst):\n",
    "    for i in range(len(lst)-1, 0, -1):\n",
    "        j = random.randint(0, i)\n",
    "        lst[i], lst[j] = lst[j], lst[i]\n",
    "    return lst\n",
    "\n",
    "# Example usage:\n",
    "lst = [1, 2, 3, 4, 5]\n",
    "print(shuffle_list(lst))  # Output: [3, 1, 4, 5, 2] (Example, output will vary)"
   ]
  },
  {
   "cell_type": "code",
   "execution_count": 25,
   "id": "32ef115f-b7c6-474f-8154-dc2431f8fbc2",
   "metadata": {},
   "outputs": [
    {
     "name": "stdout",
     "output_type": "stream",
     "text": [
      "(3,)\n"
     ]
    }
   ],
   "source": [
    "#Write code that takes two tuples as input and returns a new tuple containing elements that are common to both input tuples:\n",
    "\n",
    "def common_elements(tuple1, tuple2):\n",
    "    return tuple(set(tuple1) & set(tuple2))\n",
    "\n",
    "# Example usage:\n",
    "tuple1 = (1, 2, 3)\n",
    "tuple2 = (3, 4, 5)\n",
    "print(common_elements(tuple1, tuple2))  # Output: (3,)"
   ]
  },
  {
   "cell_type": "code",
   "execution_count": 26,
   "id": "46779d38-50ea-4446-97c0-74127effa9e8",
   "metadata": {},
   "outputs": [
    {
     "name": "stdin",
     "output_type": "stream",
     "text": [
      "Enter the first set of strings separated by commas:  a,b,c,s,as\n",
      "Enter the second set of strings separated by commas:  ad,r,se\n"
     ]
    },
    {
     "name": "stdout",
     "output_type": "stream",
     "text": [
      "Elements in the first set but not in the second set: {'b', 'a', 'as', 's', 'c'}\n"
     ]
    }
   ],
   "source": [
    "#Develop a code that prompts the user to input two sets of strings. Then print the elements that are present in the first set but not in the second set:\n",
    "\n",
    "def get_set_input(prompt):\n",
    "    return set(input(prompt).split(','))\n",
    "\n",
    "def main():\n",
    "    set1 = get_set_input(\"Enter the first set of strings separated by commas: \")\n",
    "    set2 = get_set_input(\"Enter the second set of strings separated by commas: \")\n",
    "    difference = set1 - set2\n",
    "    print(\"Elements in the first set but not in the second set:\", difference)\n",
    "\n",
    "# Run the main function\n",
    "main()"
   ]
  },
  {
   "cell_type": "code",
   "execution_count": 27,
   "id": "c36910a3-accd-497d-9863-1e2bc37b9e3f",
   "metadata": {},
   "outputs": [
    {
     "name": "stdout",
     "output_type": "stream",
     "text": [
      "(2, 3, 4)\n"
     ]
    }
   ],
   "source": [
    "#Create a code that takes a tuple and two integers as input. The function should return a new tuple containing elements from the original tuple within the specified range of indices:\n",
    "\n",
    "def slice_tuple(tup, start, end):\n",
    "    return tup[start:end+1]\n",
    "\n",
    "# Example usage:\n",
    "tup = (1, 2, 3, 4, 5)\n",
    "start = 1\n",
    "end = 3\n",
    "print(slice_tuple(tup, start, end))  # Output: (2, 3, 4)"
   ]
  },
  {
   "cell_type": "code",
   "execution_count": 28,
   "id": "2afb6faa-e844-4925-b6e1-4d9a901ec1d4",
   "metadata": {},
   "outputs": [
    {
     "name": "stdin",
     "output_type": "stream",
     "text": [
      "Enter the first set of integers separated by commas:  12,34,364,72\n",
      "Enter the second set of integers separated by commas:  135,75,12\n"
     ]
    },
    {
     "name": "stdout",
     "output_type": "stream",
     "text": [
      "Intersection of the two sets: {12}\n"
     ]
    }
   ],
   "source": [
    "#Create code that prompts the user to enter two sets of integers separated by commas. Then, print the intersection of these two sets:\n",
    "\n",
    "def get_set_input(prompt):\n",
    "    return set(map(int, input(prompt).split(',')))\n",
    "\n",
    "def main():\n",
    "    set1 = get_set_input(\"Enter the first set of integers separated by commas: \")\n",
    "    set2 = get_set_input(\"Enter the second set of integers separated by commas: \")\n",
    "    intersection = set1 & set2\n",
    "    print(\"Intersection of the two sets:\", intersection)\n",
    "\n",
    "# Run the main function\n",
    "main()"
   ]
  },
  {
   "cell_type": "code",
   "execution_count": 29,
   "id": "68d34c58-6d4d-4187-ac03-f4ed24615947",
   "metadata": {},
   "outputs": [
    {
     "name": "stdout",
     "output_type": "stream",
     "text": [
      "(1, 2, 3, 4, 5, 6)\n"
     ]
    }
   ],
   "source": [
    "#Write code to concatenate two tuples. The function should take two tuples as input and return a new tuple containing elements from both input tuples:\n",
    "\n",
    "def concatenate_tuples(tuple1, tuple2):\n",
    "    return tuple1 + tuple2\n",
    "\n",
    "# Example usage:\n",
    "tuple1 = (1, 2, 3)\n",
    "tuple2 = (4, 5, 6)\n",
    "print(concatenate_tuples(tuple1, tuple2))  # Output: (1, 2, 3, 4, 5, 6)"
   ]
  },
  {
   "cell_type": "code",
   "execution_count": 30,
   "id": "8da8eddc-ebe4-4076-a16e-2725bae2ae3d",
   "metadata": {},
   "outputs": [
    {
     "name": "stdout",
     "output_type": "stream",
     "text": [
      "(2, 3, 4)\n"
     ]
    }
   ],
   "source": [
    "#Create a code that takes a tuple and two integers as input. The function should return a new tuple containing elements from the original tuple within the specified range of indices:\n",
    "\n",
    "def slice_tuple(tup, start, end):\n",
    "    return tup[start:end+1]\n",
    "\n",
    "# Example usage:\n",
    "tup = (1, 2, 3, 4, 5)\n",
    "start = 1\n",
    "end = 3\n",
    "print(slice_tuple(tup, start, end))  # Output: (2, 3, 4"
   ]
  },
  {
   "cell_type": "code",
   "execution_count": 31,
   "id": "bc763982-4f8b-452b-9b0b-4b2ca3cb37dc",
   "metadata": {},
   "outputs": [
    {
     "name": "stdin",
     "output_type": "stream",
     "text": [
      "Enter the first set of characters separated by commas:  1,2,3\n",
      "Enter the second set of characters separated by commas:  3,2,4\n"
     ]
    },
    {
     "name": "stdout",
     "output_type": "stream",
     "text": [
      "Union of the two sets: {'2', '3', '1', '4'}\n"
     ]
    }
   ],
   "source": [
    "#Write a code that prompts the user to input two sets of characters. Then print the union of these two sets:\n",
    "\n",
    "def get_set_input(prompt):\n",
    "    return set(input(prompt).split(','))\n",
    "\n",
    "def main():\n",
    "    set1 = get_set_input(\"Enter the first set of characters separated by commas: \")\n",
    "    set2 = get_set_input(\"Enter the second set of characters separated by commas: \")\n",
    "    union = set1 | set2\n",
    "    print(\"Union of the two sets:\", union)\n",
    "\n",
    "# Run the main function\n",
    "main()"
   ]
  },
  {
   "cell_type": "code",
   "execution_count": 32,
   "id": "2f3635f5-9a97-4ef5-b7f8-159356e839e9",
   "metadata": {},
   "outputs": [
    {
     "name": "stdout",
     "output_type": "stream",
     "text": [
      "Minimum: 1\n",
      "Maximum: 5\n"
     ]
    }
   ],
   "source": [
    "\n",
    "def min_max_tuple(tup):\n",
    "    return min(tup), max(tup)\n",
    "\n",
    "# Example usage:\n",
    "tup = (1, 2, 3, 4, 5)\n",
    "min_val, max_val = min_max_tuple(tup)\n",
    "print(\"Minimum:\", min_val)  # Output: 1\n",
    "print(\"Maximum:\", max_val)  # Output: 5"
   ]
  },
  {
   "cell_type": "code",
   "execution_count": 33,
   "id": "7e360ed9-6f09-4bf1-9315-729c3b94da3c",
   "metadata": {},
   "outputs": [
    {
     "name": "stdout",
     "output_type": "stream",
     "text": [
      "Union: {1, 2, 3, 4, 5, 6}\n",
      "Intersection: {3, 4}\n",
      "Difference: {1, 2}\n"
     ]
    }
   ],
   "source": [
    "#Create a code that defines two sets of integers. Then print the union, intersection, and difference of these two sets:\n",
    "\n",
    "def main():\n",
    "    set1 = {1, 2, 3, 4}\n",
    "    set2 = {3, 4, 5, 6}\n",
    "    union = set1 | set2\n",
    "    intersection = set1 & set2\n",
    "    difference = set1 - set2\n",
    "    print(\"Union:\", union)\n",
    "    print(\"Intersection:\", intersection)\n",
    "    print(\"Difference:\", difference)\n",
    "\n",
    "# Run the main function\n",
    "main()"
   ]
  },
  {
   "cell_type": "code",
   "execution_count": 34,
   "id": "8069f4c6-5616-4266-b5cd-0f39fa783eb6",
   "metadata": {},
   "outputs": [
    {
     "name": "stdout",
     "output_type": "stream",
     "text": [
      "3\n"
     ]
    }
   ],
   "source": [
    "#Write a code that takes a tuple and an element as input. The function should return the count of occurrences of the given element in the tuple:\n",
    "\n",
    "def count_occurrences(tup, element):\n",
    "    return tup.count(element)\n",
    "\n",
    "# Example usage:\n",
    "tup = (1, 2, 2, 3, 4, 2, 5)\n",
    "element = 2\n",
    "print(count_occurrences(tup, element))  # Output: 3"
   ]
  },
  {
   "cell_type": "code",
   "execution_count": 35,
   "id": "488d5e05-273a-434f-95e1-33bca6d5c0b3",
   "metadata": {},
   "outputs": [
    {
     "name": "stdin",
     "output_type": "stream",
     "text": [
      "Enter the first set of strings separated by commas:  AB,C\n",
      "Enter the second set of strings separated by commas:  C,AD\n"
     ]
    },
    {
     "name": "stdout",
     "output_type": "stream",
     "text": [
      "Symmetric difference of the two sets: {'AD', 'AB'}\n"
     ]
    }
   ],
   "source": [
    "#Develop a code that prompts the user to input two sets of strings. Then print the symmetric difference of these two sets:\n",
    "\n",
    "def get_set_input(prompt):\n",
    "    return set(input(prompt).split(','))\n",
    "\n",
    "def main():\n",
    "    set1 = get_set_input(\"Enter the first set of strings separated by commas: \")\n",
    "    set2 = get_set_input(\"Enter the second set of strings separated by commas: \")\n",
    "    symmetric_difference = set1 ^ set2\n",
    "    print(\"Symmetric difference of the two sets:\", symmetric_difference)\n",
    "\n",
    "# Run the main function\n",
    "main()"
   ]
  },
  {
   "cell_type": "code",
   "execution_count": 36,
   "id": "43bd05d1-bc17-40b7-ba19-f3aa12771131",
   "metadata": {},
   "outputs": [
    {
     "name": "stdout",
     "output_type": "stream",
     "text": [
      "{'apple': 3, 'banana': 2, 'orange': 1}\n"
     ]
    }
   ],
   "source": [
    "#Write a code that takes a list of words as input and returns a dictionary where the keys are unique words and the values are the frequencies of those words in the input list:\n",
    "\n",
    "def word_frequencies(words):\n",
    "    freq_dict = {}\n",
    "    for word in words:\n",
    "        if word in freq_dict:\n",
    "            freq_dict[word] += 1\n",
    "        else:\n",
    "            freq_dict[word] = 1\n",
    "    return freq_dict\n",
    "\n",
    "# Example usage:\n",
    "words = [\"apple\", \"banana\", \"apple\", \"orange\", \"banana\", \"apple\"]\n",
    "print(word_frequencies(words))  # Output: {'apple': 3, 'banana': 2, 'orange': 1"
   ]
  },
  {
   "cell_type": "code",
   "execution_count": 37,
   "id": "e263fe7b-5405-47b0-afc9-7b894f3a110c",
   "metadata": {},
   "outputs": [
    {
     "name": "stdout",
     "output_type": "stream",
     "text": [
      "{'a': 1, 'b': 5, 'c': 4}\n"
     ]
    }
   ],
   "source": [
    "#Write a code that takes two dictionaries as input and merges them into a single dictionary. If there are common keys, the values should be added together:\n",
    "\n",
    "def merge_dictionaries(dict1, dict2):\n",
    "    merged_dict = dict1.copy()\n",
    "    for key, value in dict2.items():\n",
    "        if key in merged_dict:\n",
    "            merged_dict[key] += value\n",
    "        else:\n",
    "            merged_dict[key] = value\n",
    "    return merged_dict\n",
    "\n",
    "# Example usage:\n",
    "dict1 = {'a': 1, 'b': 2}\n",
    "dict2 = {'b': 3, 'c': 4}\n",
    "print(merge_dictionaries(dict1, dict2))  # Output: {'a': 1, 'b': 5, 'c': 4}"
   ]
  },
  {
   "cell_type": "code",
   "execution_count": 38,
   "id": "c857fb18-255f-4f12-aae2-44a2a44c23ac",
   "metadata": {},
   "outputs": [
    {
     "name": "stdout",
     "output_type": "stream",
     "text": [
      "42\n"
     ]
    }
   ],
   "source": [
    "#Write a code to access a value in a nested dictionary. The function should take the dictionary and a list of keys as input and return the corresponding value. If any of the keys do not exist in the dictionary, the function should return None:\n",
    "\n",
    "def get_nested_value(d, keys):\n",
    "    for key in keys:\n",
    "        if isinstance(d, dict) and key in d:\n",
    "            d = d[key]\n",
    "        else:\n",
    "            return None\n",
    "    return d\n",
    "\n",
    "# Example usage:\n",
    "nested_dict = {'a': {'b': {'c': 42}}}\n",
    "keys = ['a', 'b', 'c']\n",
    "print(get_nested_value(nested_dict, keys))  # Output: 42"
   ]
  },
  {
   "cell_type": "code",
   "execution_count": 39,
   "id": "fd6511f8-80d3-42f2-bd07-b7b1578638ab",
   "metadata": {},
   "outputs": [
    {
     "name": "stdout",
     "output_type": "stream",
     "text": [
      "{'b': 1, 'c': 2, 'a': 3}\n",
      "{'a': 3, 'c': 2, 'b': 1}\n"
     ]
    }
   ],
   "source": [
    "#Write a code that takes a dictionary as input and returns a sorted version of it based on the values. You can choose whether to sort in ascending or descending order:\n",
    "\n",
    "def sort_dict_by_values(d, ascending=True):\n",
    "    return dict(sorted(d.items(), key=lambda item: item[1], reverse=not ascending))\n",
    "\n",
    "# Example usage:\n",
    "d = {'a': 3, 'b': 1, 'c': 2}\n",
    "print(sort_dict_by_values(d, ascending=True))  # Output: {'b': 1, 'c': 2, 'a': 3}\n",
    "print(sort_dict_by_values(d, ascending=False))  # Output: {'a': 3, 'c': 2, 'b': 1}"
   ]
  },
  {
   "cell_type": "code",
   "execution_count": 40,
   "id": "8572f892-0ea4-43f2-992d-461ee767682a",
   "metadata": {},
   "outputs": [
    {
     "name": "stdout",
     "output_type": "stream",
     "text": [
      "{1: ['a', 'c'], 2: ['b']}\n"
     ]
    }
   ],
   "source": [
    "#Write a code that inverts a dictionary, swapping keys and values. Ensure that the inverted dictionary correctly handles cases where multiple keys have the same value by storing the keys as a list in the inverted dictionary:\n",
    "\n",
    "def invert_dictionary(d):\n",
    "    inverted_dict = {}\n",
    "    for key, value in d.items():\n",
    "        if value in inverted_dict:\n",
    "            inverted_dict[value].append(key)\n",
    "        else:\n",
    "            inverted_dict[value] = [key]\n",
    "    return inverted_dict\n",
    "\n",
    "# Example usage:\n",
    "d = {'a': 1, 'b': 2, 'c': 1}\n",
    "print(invert_dictionary(d))  # Output: {1: ['a', 'c'], 2: ['b'"
   ]
  },
  {
   "cell_type": "code",
   "execution_count": null,
   "id": "8c898e09-7f18-4511-8191-340c43ca8ad1",
   "metadata": {},
   "outputs": [],
   "source": []
  }
 ],
 "metadata": {
  "kernelspec": {
   "display_name": "Python 3 (ipykernel)",
   "language": "python",
   "name": "python3"
  },
  "language_info": {
   "codemirror_mode": {
    "name": "ipython",
    "version": 3
   },
   "file_extension": ".py",
   "mimetype": "text/x-python",
   "name": "python",
   "nbconvert_exporter": "python",
   "pygments_lexer": "ipython3",
   "version": "3.10.8"
  }
 },
 "nbformat": 4,
 "nbformat_minor": 5
}
