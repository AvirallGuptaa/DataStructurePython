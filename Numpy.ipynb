{
 "cells": [
  {
   "cell_type": "code",
   "execution_count": 1,
   "id": "a4e6acba-da71-488e-b207-ee21c04fb019",
   "metadata": {},
   "outputs": [
    {
     "name": "stdout",
     "output_type": "stream",
     "text": [
      "[0 1 2 3 4 5]\n",
      "Data type: int64\n"
     ]
    }
   ],
   "source": [
    "#1. Create a NumPy array 'arr' of integers from 0 to 5 and print its data type.\n",
    " \n",
    " \n",
    "import numpy as np\n",
    "\n",
    "arr = np.arange(0, 6)\n",
    "print(arr)\n",
    "print(\"Data type:\", arr.dtype)\n",
    "\t"
   ]
  },
  {
   "cell_type": "code",
   "execution_count": 2,
   "id": "e86e7a93-e3b2-458d-b18d-fbc42ae73635",
   "metadata": {},
   "outputs": [
    {
     "name": "stdout",
     "output_type": "stream",
     "text": [
      "[1.+2.j 3.+4.j 5.+6.j]\n",
      "Data type: complex128\n"
     ]
    }
   ],
   "source": [
    "#3. Create a NumPy array 'arr' with a data type of complex128 containing three complex numbers.\n",
    " \n",
    " \n",
    "arr = np.array([1+2j, 3+4j, 5+6j], dtype=np.complex128)\n",
    "print(arr)\n",
    "print(\"Data type:\", arr.dtype)"
   ]
  },
  {
   "cell_type": "code",
   "execution_count": 3,
   "id": "2ea91bfe-edc7-48a8-b036-4072822e9dfa",
   "metadata": {},
   "outputs": [
    {
     "name": "stdout",
     "output_type": "stream",
     "text": [
      "[1. 2. 3. 4. 5.]\n",
      "Data type: float32\n"
     ]
    }
   ],
   "source": [
    "#4. Convert an existing NumPy array 'arr' of integers to float32 data type.\n",
    " \n",
    " \n",
    "arr = np.array([1, 2, 3, 4, 5])\n",
    "arr_float32 = arr.astype(np.float32)\n",
    "print(arr_float32)\n",
    "print(\"Data type:\", arr_float32.dtype)"
   ]
  },
  {
   "cell_type": "code",
   "execution_count": 4,
   "id": "2c809fcd-ad3a-4f93-9cd4-b27d2003479d",
   "metadata": {},
   "outputs": [
    {
     "name": "stdout",
     "output_type": "stream",
     "text": [
      "[1.5 2.6 3.7]\n",
      "Data type: float32\n"
     ]
    }
   ],
   "source": [
    "    #5. Given a NumPy array 'arr' with float64 data type, convert it to float32 to reduce decimal precision.\n",
    " \n",
    " \n",
    "arr = np.array([1.5, 2.6, 3.7], dtype=np.float64)\n",
    "arr_float32 = arr.astype(np.float32)\n",
    "print(arr_float32)\n",
    "print(\"Data type:\", arr_float32.dtype)"
   ]
  },
  {
   "cell_type": "code",
   "execution_count": 5,
   "id": "2c02f941-d62c-435b-b4d2-8e78358d01e6",
   "metadata": {},
   "outputs": [
    {
     "name": "stdout",
     "output_type": "stream",
     "text": [
      "((3,), 3, dtype('float64'))\n"
     ]
    }
   ],
   "source": [
    "\n",
    "#6. Write a function array_attributes that takes a NumPy array as input and returns its shape, size, and data type.\n",
    " \n",
    " \n",
    "def array_attributes(arr):\n",
    "    return arr.shape, arr.size, arr.dtype\n",
    "\n",
    "arr = np.array([1.5, 2.6, 3.7])\n",
    "print(array_attributes(arr))\n"
   ]
  },
  {
   "cell_type": "code",
   "execution_count": 6,
   "id": "cd0edd44-22d0-4eec-ac42-2a880bdb8fb3",
   "metadata": {},
   "outputs": [
    {
     "name": "stdout",
     "output_type": "stream",
     "text": [
      "2\n"
     ]
    }
   ],
   "source": [
    "#7. Create a function array_dimension that takes a NumPy array as input and returns its dimensionality.\n",
    " \n",
    " \n",
    "def array_dimension(arr):\n",
    "    return arr.ndim\n",
    "\n",
    "arr = np.array([[1.5, 2.6, 3.7], [4.5, 5.6, 6.7]])\n",
    "print(array_dimension(arr))\n"
   ]
  },
  {
   "cell_type": "code",
   "execution_count": 7,
   "id": "a8ba4753-3520-4025-9f18-ce89f2ff24e1",
   "metadata": {},
   "outputs": [
    {
     "name": "stdout",
     "output_type": "stream",
     "text": [
      "(8, 24)\n"
     ]
    }
   ],
   "source": [
    "#8. Design a function item_size_info that takes a NumPy array as input and returns the item size and the total size in bytes.\n",
    " \n",
    " \n",
    "def item_size_info(arr):\n",
    "    return arr.itemsize, arr.nbytes\n",
    "\n",
    "arr = np.array([1.5, 2.6, 3.7])\n",
    "print(item_size_info(arr))\n"
   ]
  },
  {
   "cell_type": "code",
   "execution_count": null,
   "id": "d3e3880d-928c-4e24-a2ab-a9945d5e0202",
   "metadata": {},
   "outputs": [],
   "source": []
  },
  {
   "cell_type": "code",
   "execution_count": 8,
   "id": "56ccc196-5573-4e7f-a013-5251c92d025f",
   "metadata": {},
   "outputs": [
    {
     "name": "stdout",
     "output_type": "stream",
     "text": [
      "(24, 8)\n"
     ]
    }
   ],
   "source": [
    "#9. Create a function array_strides that takes a NumPy array as input and returns the strides of the array.\n",
    " \n",
    " \n",
    "def array_strides(arr):\n",
    "    return arr.strides\n",
    "\n",
    "arr = np.array([[1.5, 2.6, 3.7], [4.5, 5.6, 6.7]])\n",
    "print(array_strides(arr))\n",
    "\n"
   ]
  },
  {
   "cell_type": "code",
   "execution_count": 9,
   "id": "f3d28bdf-cc36-4501-a5d0-61a01c0f9637",
   "metadata": {},
   "outputs": [
    {
     "name": "stdout",
     "output_type": "stream",
     "text": [
      "((2, 3), (24, 8))\n"
     ]
    }
   ],
   "source": [
    "#10. Design a function shape_stride_relationship that takes a NumPy array as input and returns the shape and strides of the array.\n",
    " \n",
    " \n",
    "def shape_stride_relationship(arr):\n",
    "    return arr.shape, arr.strides\n",
    "\n",
    "arr = np.array([[1.5, 2.6, 3.7], [4.5, 5.6, 6.7]])\n",
    "print(shape_stride_relationship(arr))\n"
   ]
  },
  {
   "cell_type": "code",
   "execution_count": 10,
   "id": "9ae06b83-7b2b-41d2-bd8e-f1f2915f47c2",
   "metadata": {},
   "outputs": [
    {
     "name": "stdout",
     "output_type": "stream",
     "text": [
      "[0. 0. 0. 0. 0.]\n"
     ]
    }
   ],
   "source": [
    "#11. Create a function create_zeros_array that takes an integer n as input and returns a NumPy array of zeros with n elements.\n",
    " \n",
    " \n",
    "def create_zeros_array(n):\n",
    "    return np.zeros(n)\n",
    "\n",
    "print(create_zeros_array(5))\n"
   ]
  },
  {
   "cell_type": "code",
   "execution_count": 11,
   "id": "4d935dac-6260-4492-8589-ae0235b70630",
   "metadata": {},
   "outputs": [
    {
     "name": "stdout",
     "output_type": "stream",
     "text": [
      "[[1. 1. 1. 1.]\n",
      " [1. 1. 1. 1.]\n",
      " [1. 1. 1. 1.]]\n"
     ]
    }
   ],
   "source": [
    "#12. Write a function create_ones_matrix that takes integers rows and cols as inputs and generates a 2D NumPy array filled with ones of size rows x cols.\n",
    " \n",
    " \n",
    "import numpy as np\n",
    "\n",
    "def create_ones_matrix(rows, cols):\n",
    "    return np.ones((rows, cols))\n",
    "\n",
    "print(create_ones_matrix(3, 4))\n"
   ]
  },
  {
   "cell_type": "code",
   "execution_count": 12,
   "id": "f5283ccf-17b0-4874-98e5-4777c4d29bbc",
   "metadata": {},
   "outputs": [
    {
     "name": "stdout",
     "output_type": "stream",
     "text": [
      "[1 3 5 7 9]\n"
     ]
    }
   ],
   "source": [
    "#13. Write a function generate_range_array that takes three integers start, stop, and step as arguments and creates a NumPy array with a range starting from start, ending at stop (exclusive), and with the specified step.\n",
    " \n",
    " \n",
    "def generate_range_array(start, stop, step):\n",
    "    return np.arange(start, stop, step)\n",
    "\n",
    "print(generate_range_array(1, 10, 2))\n"
   ]
  },
  {
   "cell_type": "code",
   "execution_count": 13,
   "id": "4c167a96-cd39-4817-9ab7-6ca447d771c5",
   "metadata": {},
   "outputs": [
    {
     "name": "stdout",
     "output_type": "stream",
     "text": [
      "[0.   0.25 0.5  0.75 1.  ]\n"
     ]
    }
   ],
   "source": [
    "#14. Design a function generate_linear_space that takes two floats start, stop, and an integer num as arguments and generates a NumPy array with num equally spaced values between start and stop (inclusive).\n",
    " \n",
    " \n",
    "def generate_linear_space(start, stop, num):\n",
    "    return np.linspace(start, stop, num)\n",
    "\n",
    "print(generate_linear_space(0, 1, 5))\n"
   ]
  },
  {
   "cell_type": "code",
   "execution_count": 14,
   "id": "d312c997-84d2-4332-8d4b-4dbc223f3289",
   "metadata": {},
   "outputs": [
    {
     "name": "stdout",
     "output_type": "stream",
     "text": [
      "[[1. 0. 0. 0.]\n",
      " [0. 1. 0. 0.]\n",
      " [0. 0. 1. 0.]\n",
      " [0. 0. 0. 1.]]\n"
     ]
    }
   ],
   "source": [
    "#15. Create a function create_identity_matrix that takes an integer n as input and generates a square identity matrix of size n x n using numpy.eye.\n",
    " \n",
    " \n",
    "def create_identity_matrix(n):\n",
    "    return np.eye(n)\n",
    "\n",
    "print(create_identity_matrix(4))\n"
   ]
  },
  {
   "cell_type": "code",
   "execution_count": 15,
   "id": "e7e88ed9-92f7-4599-972e-2af843e3be10",
   "metadata": {},
   "outputs": [
    {
     "name": "stdout",
     "output_type": "stream",
     "text": [
      "[1 2 3 4 5]\n"
     ]
    }
   ],
   "source": [
    "#16. Write a function that takes a  list and converts it into a NumPy array.\n",
    " \n",
    " \n",
    "def list_to_numpy_array(lst):\n",
    "    return np.array(lst)\n",
    "\n",
    "print(list_to_numpy_array([1, 2, 3, 4, 5]))\n"
   ]
  },
  {
   "cell_type": "code",
   "execution_count": 16,
   "id": "d34d8764-6ed5-4bba-bc3c-258019e917c5",
   "metadata": {},
   "outputs": [
    {
     "name": "stdout",
     "output_type": "stream",
     "text": [
      "Original Array: [1 2 3 4 5]\n",
      "View Array: [1 2 3 4 5]\n",
      "Original Array after modification: [10  2  3  4  5]\n",
      "View Array after modification: [10  2  3  4  5]\n"
     ]
    }
   ],
   "source": [
    "    #17. Create a NumPy array and demonstrate the use of `numpy.view` to create a new array object with the\n",
    "\n",
    "\n",
    "import numpy as np\n",
    "\n",
    "# Create a NumPy array\n",
    "original_array = np.array([1, 2, 3, 4, 5])\n",
    "\n",
    "# Use numpy.view to create a new array object with the same data\n",
    "view_array = original_array.view()\n",
    "\n",
    "# Display the original and the view arrays\n",
    "print(\"Original Array:\", original_array)\n",
    "print(\"View Array:\", view_array)\n",
    "\n",
    "# Modify the view array\n",
    "view_array[0] = 10\n",
    "\n",
    "# Display the arrays after modification to show that the data is shared\n",
    "print(\"Original Array after modification:\", original_array)\n",
    "print(\"View Array after modification:\", view_array)"
   ]
  },
  {
   "cell_type": "code",
   "execution_count": 17,
   "id": "a3f736e0-508d-4ed8-996b-6568e8882bdf",
   "metadata": {},
   "outputs": [
    {
     "name": "stdout",
     "output_type": "stream",
     "text": [
      "[[1 2]\n",
      " [3 4]\n",
      " [5 6]\n",
      " [7 8]]\n",
      "[[1 2 5 6]\n",
      " [3 4 7 8]]\n"
     ]
    }
   ],
   "source": [
    "#18. Write a function that takes two NumPy arrays and concatenates them along a specified axis.\n",
    " \n",
    " \n",
    "import numpy as np\n",
    "\n",
    "def concatenate_arrays(arr1, arr2, axis=0):\n",
    "    return np.concatenate((arr1, arr2), axis=axis)\n",
    "\n",
    "arr1 = np.array([[1, 2], [3, 4]])\n",
    "arr2 = np.array([[5, 6], [7, 8]])\n",
    "print(concatenate_arrays(arr1, arr2, axis=0))\n",
    "print(concatenate_arrays(arr1, arr2, axis=1))\n"
   ]
  },
  {
   "cell_type": "code",
   "execution_count": 19,
   "id": "1cd98217-05c8-46be-a8c8-7368699cdb24",
   "metadata": {},
   "outputs": [
    {
     "name": "stdout",
     "output_type": "stream",
     "text": [
      "[[1 2 3]\n",
      " [4 5 6]\n",
      " [7 8 9]]\n"
     ]
    }
   ],
   "source": [
    "#20. Write a function that vertically stacks multiple NumPy arrays given as a list.\n",
    " \n",
    " \n",
    "def stack_vertically(arr_list):\n",
    "    return np.vstack(arr_list)\n",
    "\n",
    "arr1 = np.array([1, 2, 3])\n",
    "arr2 = np.array([4, 5, 6])\n",
    "arr3 = np.array([7, 8, 9])\n",
    "print(stack_vertically([arr1, arr2, arr3]))\n"
   ]
  },
  {
   "cell_type": "code",
   "execution_count": 20,
   "id": "8e3289f5-e345-4e91-87d5-aa8b2de70459",
   "metadata": {},
   "outputs": [
    {
     "name": "stdout",
     "output_type": "stream",
     "text": [
      "[1 3 5 7 9]\n"
     ]
    }
   ],
   "source": [
    "#21. Write a  function using NumPy to create an array of integers within a specified range (inclusive) with a given step size.\n",
    " \n",
    " \n",
    "def create_range_array(start, stop, step):\n",
    "    return np.arange(start, stop + 1, step)\n",
    "\n",
    "print(create_range_array(1, 10, 2))\n"
   ]
  },
  {
   "cell_type": "code",
   "execution_count": 21,
   "id": "c7436a14-554b-42e7-b966-22ffcb61ca0c",
   "metadata": {},
   "outputs": [
    {
     "name": "stdout",
     "output_type": "stream",
     "text": [
      "[0.         0.11111111 0.22222222 0.33333333 0.44444444 0.55555556\n",
      " 0.66666667 0.77777778 0.88888889 1.        ]\n"
     ]
    }
   ],
   "source": [
    "#22. Write a  function using NumPy to generate an array of 10 equally spaced values between 0 and 1 (inclusive).\n",
    " \n",
    " \n",
    "def generate_equally_spaced_array(start, stop, num):\n",
    "    return np.linspace(start, stop, num)\n",
    "\n",
    "print(generate_equally_spaced_array(0, 1, 10))\n"
   ]
  },
  {
   "cell_type": "code",
   "execution_count": 22,
   "id": "52d8c1f4-4390-452f-813c-55b3176df66f",
   "metadata": {},
   "outputs": [
    {
     "name": "stdout",
     "output_type": "stream",
     "text": [
      "[   1.            5.62341325   31.6227766   177.827941   1000.        ]\n"
     ]
    }
   ],
   "source": [
    "#23. Write a  function using NumPy to create an array of 5 logarithmically spaced values between 1 and 1000 (inclusive).\n",
    " \n",
    " \n",
    "def generate_log_space_array(start, stop, num):\n",
    "    return np.logspace(np.log10(start), np.log10(stop), num)\n",
    "\n",
    "print(generate_log_space_array(1, 1000, 5))\n"
   ]
  },
  {
   "cell_type": "code",
   "execution_count": 23,
   "id": "0847e07e-7f31-4e25-b031-cf94b27a094d",
   "metadata": {},
   "outputs": [
    {
     "name": "stdout",
     "output_type": "stream",
     "text": [
      "   col1  col2  col3\n",
      "0    41    92    96\n",
      "1    80    51    54\n",
      "2     4     8    55\n",
      "3    80    70    37\n",
      "4    30    75     5\n"
     ]
    }
   ],
   "source": [
    "# 24. Create a Pandas DataFrame using a NumPy array that contains 5 rows and 3 columns, where the values are random integers between 1 and 100.\n",
    " \n",
    " \n",
    "import pandas as pd\n",
    "\n",
    "def create_random_dataframe(rows, cols, min_val, max_val):\n",
    "    data = np.random.randint(min_val, max_val + 1, size=(rows, cols))\n",
    "    return pd.DataFrame(data, columns=[f'col{i+1}' for i in range(cols)])\n",
    "\n",
    "print(create_random_dataframe(5, 3, 1, 100))\n"
   ]
  },
  {
   "cell_type": "code",
   "execution_count": 25,
   "id": "80adca72-02fc-4e09-8122-1ce85a31e925",
   "metadata": {},
   "outputs": [
    {
     "name": "stdout",
     "output_type": "stream",
     "text": [
      "30\n",
      "6\n"
     ]
    }
   ],
   "source": [
    "#26. Access the 3rd element from the given NumPy array.\n",
    " \n",
    " \n",
    "arr = np.array([10, 20, 30, 40, 50])\n",
    "print(arr[2])\n",
    "#27. Retrieve the element at index (1, 2) from the 2D NumPy array.\n",
    " \n",
    " \n",
    "arr_2d = np.array([[1, 2, 3], [4, 5, 6], [7, 8, 9]])\n",
    "print(arr_2d[1, 2])\n",
    "\n"
   ]
  },
  {
   "cell_type": "code",
   "execution_count": 26,
   "id": "ac560d0f-bd54-4a28-b35a-d345c6b23d9f",
   "metadata": {},
   "outputs": [
    {
     "name": "stdout",
     "output_type": "stream",
     "text": [
      "[ 8 10  7]\n"
     ]
    }
   ],
   "source": [
    "#28: Using boolean indexing, extract elements greater than 5 from the given NumPy array\n",
    " \n",
    " \n",
    "import numpy as np\n",
    "\n",
    "arr = np.array([3, 8, 2, 10, 5, 7])\n",
    "result = arr[arr > 5]\n",
    "print(result)\n"
   ]
  },
  {
   "cell_type": "code",
   "execution_count": 27,
   "id": "983fa339-15c1-43d3-8539-2c274f49f041",
   "metadata": {},
   "outputs": [
    {
     "name": "stdout",
     "output_type": "stream",
     "text": [
      "[3 4 5 6]\n"
     ]
    }
   ],
   "source": [
    "#29: Perform basic slicing to extract elements from index 2 to 5 (inclusive) from the given NumPy array\n",
    " \n",
    " \n",
    "import numpy as np\n",
    "\n",
    "arr = np.array([1, 2, 3, 4, 5, 6, 7, 8, 9])\n",
    "result = arr[2:6]  # Slicing is exclusive of the end index, so we use 6 to include element at index 5\n",
    "print(result)\n"
   ]
  },
  {
   "cell_type": "code",
   "execution_count": 28,
   "id": "3f79a778-23eb-46dd-8fe4-a4eb3ecd613a",
   "metadata": {},
   "outputs": [
    {
     "name": "stdout",
     "output_type": "stream",
     "text": [
      "[[2 3]\n",
      " [5 6]]\n"
     ]
    }
   ],
   "source": [
    "#30: Slice the 2D NumPy array to extract the sub-array [[2, 3], [5, 6]] from the given array\n",
    " \n",
    " \n",
    "import numpy as np\n",
    "\n",
    "arr_2d = np.array([[1, 2, 3],\n",
    "                   [4, 5, 6],\n",
    "                   [7, 8, 9]])\n",
    "result = arr_2d[0:2, 1:3]\n",
    "print(result)\n"
   ]
  },
  {
   "cell_type": "code",
   "execution_count": 29,
   "id": "b1bb30eb-437f-4d77-a7f9-a2e47655707a",
   "metadata": {},
   "outputs": [
    {
     "name": "stdout",
     "output_type": "stream",
     "text": [
      "[[[1 2 3]\n",
      "  [4 5 6]]\n",
      "\n",
      " [[4 5 6]\n",
      "  [7 8 9]]]\n"
     ]
    }
   ],
   "source": [
    "#31: Write a NumPy function to extract elements in specific order from a given 2D array based on indices provided in another array\n",
    " \n",
    " \n",
    "import numpy as np\n",
    "\n",
    "def extract_elements(arr, indices):\n",
    "    return arr[indices]\n",
    "\n",
    "arr = np.array([[1, 2, 3], \n",
    "                [4, 5, 6], \n",
    "                [7, 8, 9]])\n",
    "indices = np.array([[0, 1], \n",
    "                    [1, 2]])\n",
    "result = extract_elements(arr, indices)\n",
    "print(result)\n"
   ]
  },
  {
   "cell_type": "code",
   "execution_count": 30,
   "id": "624778e0-bd5f-4744-8578-41e669c2816e",
   "metadata": {},
   "outputs": [
    {
     "name": "stdout",
     "output_type": "stream",
     "text": [
      "[6 7 8 9]\n"
     ]
    }
   ],
   "source": [
    "#32: Create a NumPy function that filters elements greater than a threshold from a given 1D array using boolean indexing\n",
    " \n",
    " \n",
    "import numpy as np\n",
    "\n",
    "def filter_elements(arr, threshold):\n",
    "    return arr[arr > threshold]\n",
    "\n",
    "arr = np.array([1, 2, 3, 4, 5, 6, 7, 8, 9])\n",
    "threshold = 5\n",
    "result = filter_elements(arr, threshold)\n",
    "print(result)\n"
   ]
  },
  {
   "cell_type": "code",
   "execution_count": 31,
   "id": "b2c3831f-b23a-461c-9e94-32c2383a619d",
   "metadata": {},
   "outputs": [
    {
     "name": "stdout",
     "output_type": "stream",
     "text": [
      "[ 3 11]\n"
     ]
    }
   ],
   "source": [
    "#33: Develop a NumPy function that extracts specific elements from a 3D array using indices provided in three separate arrays for each dimension\n",
    " \n",
    " \n",
    "import numpy as np\n",
    "\n",
    "def extract_elements_3d(arr, indices_x, indices_y, indices_z):\n",
    "    return arr[indices_x, indices_y, indices_z]\n",
    "\n",
    "arr = np.array([[[1, 2, 3], [4, 5, 6]], \n",
    "                [[7, 8, 9], [10, 11, 12]]])\n",
    "indices_x = np.array([0, 1])\n",
    "indices_y = np.array([0, 1])\n",
    "indices_z = np.array([2, 1])\n",
    "result = extract_elements_3d(arr, indices_x, indices_y, indices_z)\n",
    "print(result)\n"
   ]
  },
  {
   "cell_type": "code",
   "execution_count": 32,
   "id": "3a92d8f2-5c98-4537-a5c0-35073e364761",
   "metadata": {},
   "outputs": [
    {
     "name": "stdout",
     "output_type": "stream",
     "text": [
      "[4 5 6 7]\n"
     ]
    }
   ],
   "source": [
    "#34: Write a NumPy function that returns elements from an array where both two conditions are satisfied using boolean indexing\n",
    " \n",
    " \n",
    "import numpy as np\n",
    "\n",
    "def filter_elements_two_conditions(arr, condition1, condition2):\n",
    "    return arr[condition1 & condition2]\n",
    "\n",
    "arr = np.array([1, 2, 3, 4, 5, 6, 7, 8, 9])\n",
    "condition1 = arr > 3\n",
    "condition2 = arr < 8\n",
    "result = filter_elements_two_conditions(arr, condition1, condition2)\n",
    "print(result)\n"
   ]
  },
  {
   "cell_type": "code",
   "execution_count": 33,
   "id": "0f321b28-b283-4cba-a92e-8f98a977cc97",
   "metadata": {},
   "outputs": [
    {
     "name": "stdout",
     "output_type": "stream",
     "text": [
      "[2 6 7]\n"
     ]
    }
   ],
   "source": [
    "# 35: Create a NumPy function that extracts elements from a 2D array using row and column indices provided in separate arrays\n",
    " \n",
    " \n",
    "import numpy as np\n",
    "\n",
    "def extract_elements_2d(arr, row_indices, col_indices):\n",
    "    return arr[row_indices, col_indices]\n",
    "\n",
    "arr = np.array([[1, 2, 3], \n",
    "                [4, 5, 6], \n",
    "                [7, 8, 9]])\n",
    "row_indices = np.array([0, 1, 2])\n",
    "col_indices = np.array([1, 2, 0])\n",
    "result = extract_elements_2d(arr, row_indices, col_indices)\n",
    "print(result)\n",
    "\n"
   ]
  },
  {
   "cell_type": "code",
   "execution_count": 34,
   "id": "98a02664-e2d9-4ba0-b784-1d95655c8ef0",
   "metadata": {},
   "outputs": [
    {
     "name": "stdout",
     "output_type": "stream",
     "text": [
      "[[ 6  7  8]\n",
      " [ 9 10 11]\n",
      " [12 13 14]]\n"
     ]
    }
   ],
   "source": [
    "# 36: Given an array arr of shape (3, 3), add a scalar value of 5 to each element using NumPy broadcasting\n",
    " \n",
    " \n",
    "import numpy as np\n",
    "\n",
    "arr = np.array([[1, 2, 3], \n",
    "                [4, 5, 6], \n",
    "                [7, 8, 9]])\n",
    "result = arr + 5\n",
    "print(result)\n"
   ]
  },
  {
   "cell_type": "code",
   "execution_count": 35,
   "id": "5a80f146-4b9b-42e3-87d2-cba889e50eb3",
   "metadata": {},
   "outputs": [
    {
     "name": "stdout",
     "output_type": "stream",
     "text": [
      "[[ 2  4  6  8]\n",
      " [15 18 21 24]\n",
      " [36 40 44 48]]\n"
     ]
    }
   ],
   "source": [
    "# 37: Consider two arrays arr1 of shape (1, 3) and arr2 of shape (3, 4). Multiply each row of arr2 by the corresponding element in arr1 using NumPy broadcasting\n",
    " \n",
    " \n",
    "import numpy as np\n",
    "\n",
    "arr1 = np.array([[2, 3, 4]])\n",
    "arr2 = np.array([[1, 2, 3, 4], \n",
    "                 [5, 6, 7, 8], \n",
    "                 [9, 10, 11, 12]])\n",
    "result = arr2 * arr1.T  # Transpose arr1 to shape (3, 1) for broadcasting\n",
    "print(result)\n"
   ]
  },
  {
   "cell_type": "code",
   "execution_count": 36,
   "id": "45b869b0-b4b2-4396-af34-8a8951bc58aa",
   "metadata": {},
   "outputs": [
    {
     "name": "stdout",
     "output_type": "stream",
     "text": [
      "[[ 2  3  4]\n",
      " [ 6  7  8]\n",
      " [10 11 12]\n",
      " [14 15 16]]\n"
     ]
    }
   ],
   "source": [
    "# 38: Given a 1D array arr1 of shape (1, 4) and a 2D array arr2 of shape (4, 3), add arr1 to each row of arr2 using NumPy broadcasting\n",
    " \n",
    " \n",
    "import numpy as np\n",
    "\n",
    "arr1 = np.array([[1, 2, 3, 4]])\n",
    "arr2 = np.array([[1, 2, 3], \n",
    "                 [4, 5, 6], \n",
    "                 [7, 8, 9], \n",
    "                 [10, 11, 12]])\n",
    "result = arr2 + arr1.T  # Transpose arr1 to shape (4, 1) for broadcasting\n",
    "print(result)\n"
   ]
  },
  {
   "cell_type": "code",
   "execution_count": 37,
   "id": "7c6c0959-efe7-473d-b452-1563f879a764",
   "metadata": {},
   "outputs": [
    {
     "name": "stdout",
     "output_type": "stream",
     "text": [
      "[[5 6 7]\n",
      " [6 7 8]\n",
      " [7 8 9]]\n"
     ]
    }
   ],
   "source": [
    "#39: Consider two arrays arr1 of shape (3, 1) and arr2 of shape (1, 3). Add these arrays using NumPy broadcasting\n",
    " \n",
    " \n",
    "import numpy as np\n",
    "\n",
    "arr1 = np.array([[1], \n",
    "                 [2], \n",
    "                 [3]])\n",
    "arr2 = np.array([[4, 5, 6]])\n",
    "result = arr1 + arr2\n",
    "print(result)\n"
   ]
  },
  {
   "cell_type": "code",
   "execution_count": 38,
   "id": "10f9964a-4aa5-4565-babd-b3d154b7cddd",
   "metadata": {},
   "outputs": [
    {
     "name": "stdout",
     "output_type": "stream",
     "text": [
      "[[[ 7 14 21]\n",
      "  [ 8 16 24]]\n",
      "\n",
      " [[36 45 54]\n",
      "  [40 50 60]]]\n"
     ]
    }
   ],
   "source": [
    "# 40: Given arrays arr1 of shape (2, 3) and arr2 of shape (2, 2), perform multiplication using NumPy broadcasting. Handle the shape incompatibility\n",
    "#Since the shapes (2, 3) and (2, 2) are incompatible for broadcasting, we can adjust the dimensions of one of the arrays to make them compatible. We can use a combination of broadcasting and manual adjustment to achieve the multiplication:\n",
    "\n",
    "\n",
    "import numpy as np\n",
    "\n",
    "arr1 = np.array([[1, 2, 3], \n",
    "                 [4, 5, 6]])\n",
    "arr2 = np.array([[7, 8], \n",
    "                 [9, 10]])\n",
    "\n",
    "# To make the shapes compatible, we need to expand the dimensions of arr2\n",
    "# For example, we can add a new axis to arr2 to make its shape (2, 2, 1)\n",
    "arr2_expanded = arr2[:, :, np.newaxis]\n",
    "\n",
    "# Now we can broadcast arr1 to the shape of arr2_expanded and perform the multiplication\n",
    "result = arr1[:, np.newaxis, :] * arr2_expanded\n",
    "print(result)\n",
    "\n"
   ]
  },
  {
   "cell_type": "code",
   "execution_count": 39,
   "id": "fe060b7e-7360-422f-8bdf-eabb21bf0ac0",
   "metadata": {},
   "outputs": [
    {
     "name": "stdout",
     "output_type": "stream",
     "text": [
      "Column-wise mean: [2.5 3.5 4.5]\n",
      "Maximum value in each row: [3 6]\n",
      "Indices of maximum value in each column: [1 1 1]\n",
      "Moving sum along rows: [[ 1  3  6]\n",
      " [ 4  9 15]]\n",
      "Are all elements in each column even: [False False False]\n"
     ]
    }
   ],
   "source": [
    " # 41: Calculate column-wise mean for the given array\n",
    " \n",
    " \n",
    "import numpy as np\n",
    "\n",
    "arr = np.array([[1, 2, 3], [4, 5, 6]])\n",
    "column_wise_mean = np.mean(arr, axis=0)\n",
    "print(\"Column-wise mean:\", column_wise_mean)\n",
    " # 42: Find maximum value in each row of the given array\n",
    " \n",
    " \n",
    "import numpy as np\n",
    "\n",
    "arr = np.array([[1, 2, 3], [4, 5, 6]])\n",
    "row_wise_max = np.max(arr, axis=1)\n",
    "print(\"Maximum value in each row:\", row_wise_max)\n",
    " # 43: For the given array, find indices of maximum value in each column\n",
    " \n",
    " \n",
    "import numpy as np\n",
    "\n",
    "arr = np.array([[1, 2, 3], [4, 5, 6]])\n",
    "indices_max_value = np.argmax(arr, axis=0)\n",
    "print(\"Indices of maximum value in each column:\", indices_max_value)\n",
    " # 44: For the given array, apply custom function to calculate moving sum along rows\n",
    " \n",
    " \n",
    "import numpy as np\n",
    "\n",
    "arr = np.array([[1, 2, 3], [4, 5, 6]])\n",
    "\n",
    "def moving_sum(arr):\n",
    "    result = np.cumsum(arr, axis=1)\n",
    "    return result\n",
    "\n",
    "moving_sum_result = moving_sum(arr)\n",
    "print(\"Moving sum along rows:\", moving_sum_result)\n",
    " # 45: In the given array, check if all elements in each column are even\n",
    " \n",
    " \n",
    "import numpy as np\n",
    "\n",
    "arr = np.array([[2, 4, 6], [3, 5, 7]])\n",
    "are_all_even = np.all(arr % 2 == 0, axis=0)\n",
    "print(\"Are all elements in each column even:\", are_all_even)\n"
   ]
  },
  {
   "cell_type": "code",
   "execution_count": 40,
   "id": "5e14c9c6-1e9d-4d03-afe7-ed38b3f842a7",
   "metadata": {},
   "outputs": [
    {
     "name": "stdout",
     "output_type": "stream",
     "text": [
      "Reshaped matrix:\n",
      " [[1 2 3]\n",
      " [4 5 6]]\n"
     ]
    }
   ],
   "source": [
    " # 46: Given a NumPy array arr, reshape it into a matrix of dimensions m rows and n columns\n",
    " \n",
    " \n",
    "import numpy as np\n",
    "\n",
    "original_array = np.array([1, 2, 3, 4, 5, 6])\n",
    "reshaped_matrix = original_array.reshape(2, 3)  # Example: 2 rows and 3 columns\n",
    "print(\"Reshaped matrix:\\n\", reshaped_matrix)\n"
   ]
  },
  {
   "cell_type": "code",
   "execution_count": 41,
   "id": "fc2f4cd5-5714-4246-8cff-39c51d6e981c",
   "metadata": {},
   "outputs": [
    {
     "name": "stdout",
     "output_type": "stream",
     "text": [
      "Flattened array: [1 2 3 4 5 6]\n"
     ]
    }
   ],
   "source": [
    " # 47: Create a function that takes a matrix as input and returns the flattened array\n",
    " \n",
    " \n",
    "import numpy as np\n",
    "\n",
    "def flatten_matrix(matrix):\n",
    "    flattened = matrix.flatten()\n",
    "    return flattened\n",
    "\n",
    "matrix = np.array([[1, 2, 3], [4, 5, 6]])\n",
    "flattened_array = flatten_matrix(matrix)\n",
    "print(\"Flattened array:\", flattened_array)\n",
    "\n",
    "\n"
   ]
  },
  {
   "cell_type": "code",
   "execution_count": 42,
   "id": "9fcea224-65e0-4a98-ae79-2a101fa8d4dc",
   "metadata": {},
   "outputs": [
    {
     "name": "stdout",
     "output_type": "stream",
     "text": [
      "Concatenated array along axis 0:\n",
      " [[1 2]\n",
      " [3 4]\n",
      " [5 6]\n",
      " [7 8]]\n"
     ]
    }
   ],
   "source": [
    " # 48: Write a function that concatenates two given arrays along a specified axis\n",
    " \n",
    " \n",
    "import numpy as np\n",
    "\n",
    "def concatenate_arrays(array1, array2, axis=0):\n",
    "    return np.concatenate((array1, array2), axis=axis)\n",
    "\n",
    "array1 = np.array([[1, 2], [3, 4]])\n",
    "array2 = np.array([[5, 6], [7, 8]])\n",
    "concatenated_array = concatenate_arrays(array1, array2, axis=0)\n",
    "print(\"Concatenated array along axis 0:\\n\", concatenated_array)\n"
   ]
  },
  {
   "cell_type": "code",
   "execution_count": 43,
   "id": "f0ce8b7b-b7fb-4924-9a53-8dac585d3e6a",
   "metadata": {},
   "outputs": [
    {
     "name": "stdout",
     "output_type": "stream",
     "text": [
      "Split arrays:\n",
      " [array([[1, 2, 3]]), array([[4, 5, 6]]), array([[7, 8, 9]])]\n"
     ]
    }
   ],
   "source": [
    "      # 49: Create a function that splits an array into multiple sub-arrays along a specified axis\n",
    " \n",
    " \n",
    "import numpy as np\n",
    "\n",
    "def split_array(array, indices_or_sections, axis=0):\n",
    "    return np.split(array, indices_or_sections, axis=axis)\n",
    "\n",
    "original_array = np.array([[1, 2, 3], [4, 5, 6], [7, 8, 9]])\n",
    "split_arrays = split_array(original_array, 3, axis=0)\n",
    "print(\"Split arrays:\\n\", split_arrays)\n"
   ]
  },
  {
   "cell_type": "code",
   "execution_count": 44,
   "id": "d1d20ef7-3189-4bc9-8afe-fc0025dffb15",
   "metadata": {},
   "outputs": [
    {
     "name": "stdout",
     "output_type": "stream",
     "text": [
      "Modified array: [ 1 10  4 11  5]\n"
     ]
    }
   ],
   "source": [
    " # 50: Write a function that inserts and then deletes elements from a given array at specified indices\n",
    " \n",
    " \n",
    "import numpy as np\n",
    "\n",
    "def insert_and_delete_elements(original_array, indices_to_insert, values_to_insert, indices_to_delete):\n",
    "    modified_array = np.insert(original_array, indices_to_insert, values_to_insert)\n",
    "    modified_array = np.delete(modified_array, indices_to_delete)\n",
    "    return modified_array\n",
    "\n",
    "original_array = np.array([1, 2, 3, 4, 5])\n",
    "indices_to_insert = [2, 4]\n",
    "values_to_insert = [10, 11]\n",
    "indices_to_delete = [1, 3]\n",
    "modified_array = insert_and_delete_elements(original_array, indices_to_insert, values_to_insert, indices_to_delete)\n",
    "print(\"Modified array:\", modified_array)\n"
   ]
  },
  {
   "cell_type": "code",
   "execution_count": 45,
   "id": "7454885d-223c-424b-a340-14fc283c605c",
   "metadata": {},
   "outputs": [
    {
     "name": "stdout",
     "output_type": "stream",
     "text": [
      "Element-wise addition: [11  4  9  6 15  7 16 17 17 20]\n"
     ]
    }
   ],
   "source": [
    " # 51: Create a NumPy array arr1 with random integers and another array arr2 with integers from 1 to 10. Perform element-wise addition between arr1 and arr2\n",
    " \n",
    " \n",
    "import numpy as np\n",
    "\n",
    "arr1 = np.random.randint(1, 11, size=10)\n",
    "arr2 = np.arange(1, 11)\n",
    "element_wise_addition = np.add(arr1, arr2)\n",
    "print(\"Element-wise addition:\", element_wise_addition)\n"
   ]
  },
  {
   "cell_type": "code",
   "execution_count": 46,
   "id": "8aee6b25-3f18-430f-9e43-9007a28c0920",
   "metadata": {},
   "outputs": [
    {
     "name": "stdout",
     "output_type": "stream",
     "text": [
      "Element-wise subtraction: [ 9  7  5  3  1 -1 -3 -5 -7 -9]\n"
     ]
    }
   ],
   "source": [
    " # 52: Generate a NumPy array arr1 with sequential integers from 10 to 1 and another array arr2 with integers from 1 to 10. Subtract arr2 from arr1 element-wise\n",
    " \n",
    " \n",
    "import numpy as np\n",
    "\n",
    "arr1 = np.arange(10, 0, -1)\n",
    "arr2 = np.arange(1, 11)\n",
    "element_wise_subtraction = np.subtract(arr1, arr2)\n",
    "print(\"Element-wise subtraction:\", element_wise_subtraction)\n"
   ]
  },
  {
   "cell_type": "code",
   "execution_count": 47,
   "id": "9d8068b4-1018-4ed2-8dea-c32339db5637",
   "metadata": {},
   "outputs": [
    {
     "name": "stdout",
     "output_type": "stream",
     "text": [
      "Element-wise multiplication: [ 8 18 24 32 50]\n"
     ]
    }
   ],
   "source": [
    " # 53: Create a NumPy array arr1 with random integers and another array arr2 with integers from 1 to 5. Perform element-wise multiplication between arr1 and arr2\n",
    " \n",
    " \n",
    "import numpy as np\n",
    "\n",
    "arr1 = np.random.randint(1, 11, size=5)\n",
    "arr2 = np.arange(1, 6)\n",
    "element_wise_multiplication = np.multiply(arr1, arr2)\n",
    "print(\"Element-wise multiplication:\", element_wise_multiplication)\n"
   ]
  },
  {
   "cell_type": "code",
   "execution_count": 48,
   "id": "163af706-93d9-4ee1-b88e-44a5d7613da2",
   "metadata": {},
   "outputs": [
    {
     "name": "stdout",
     "output_type": "stream",
     "text": [
      "Element-wise division: [2. 2. 2. 2. 2.]\n"
     ]
    }
   ],
   "source": [
    " # 54: Generate a NumPy array arr1 with even integers from 2 to 10 and another array arr2 with integers from 1 to 5. Perform element-wise division of arr1 by arr2\n",
    " \n",
    " \n",
    "import numpy as np\n",
    "\n",
    "arr1 = np.arange(2, 12, 2)\n",
    "arr2 = np.arange(1, 6)\n",
    "element_wise_division = np.divide(arr1, arr2)\n",
    "print(\"Element-wise division:\", element_wise_division)\n",
    "\n",
    "\n"
   ]
  },
  {
   "cell_type": "code",
   "execution_count": 49,
   "id": "50466e0a-7ea4-4176-9e28-f5f4b7e5ff0a",
   "metadata": {},
   "outputs": [
    {
     "name": "stdout",
     "output_type": "stream",
     "text": [
      "Array after replacing substring:\n",
      " ['fruit' 'banana' 'grape' 'pinefruit']\n",
      "Element-wise concatenated array:\n",
      " ['HelloOpen' 'WorldAI']\n",
      "Length of the longest string: 9\n",
      "Dataset statistics:\n",
      "Mean: 449.41\n",
      "Median: 427.5\n",
      "Variance: 68960.0019\n",
      "Standard Deviation: 262.60236461235456\n"
     ]
    }
   ],
   "source": [
    " # 58: Write a function that replaces occurrences of a substring in a NumPy array of strings with a new string\n",
    " \n",
    " \n",
    "import numpy as np\n",
    "\n",
    "def replace_substring(array, old_substring, new_substring):\n",
    "    return np.char.replace(array, old_substring, new_substring)\n",
    "\n",
    "arr = np.array(['apple', 'banana', 'grape', 'pineapple'])\n",
    "old_substring = 'apple'\n",
    "new_substring = 'fruit'\n",
    "replaced_array = replace_substring(arr, old_substring, new_substring)\n",
    "print(\"Array after replacing substring:\\n\", replaced_array)\n",
    " # 59: Write a function that concatenates strings in a NumPy array element-wise\n",
    " \n",
    " \n",
    "import numpy as np\n",
    "\n",
    "def concatenate_strings(array1, array2):\n",
    "    return np.char.add(array1, array2)\n",
    "\n",
    "arr1 = np.array(['Hello', 'World'])\n",
    "arr2 = np.array(['Open', 'AI'])\n",
    "concatenated_array = concatenate_strings(arr1, arr2)\n",
    "print(\"Element-wise concatenated array:\\n\", concatenated_array)\n",
    " # 60: Write a function that finds the length of the longest string in a NumPy array\n",
    " \n",
    " \n",
    "import numpy as np\n",
    "\n",
    "def length_of_longest_string(array):\n",
    "    return np.max(np.char.str_len(array))\n",
    "\n",
    "arr = np.array(['apple', 'banana', 'grape', 'pineapple'])\n",
    "longest_string_length = length_of_longest_string(arr)\n",
    "print(\"Length of the longest string:\", longest_string_length)\n",
    " # 61: Create a dataset of 100 random integers between 1 and 1000. Compute the mean, median, variance, and standard deviation of the dataset using NumPy's functions\n",
    " \n",
    " \n",
    "import numpy as np\n",
    "\n",
    "dataset = np.random.randint(1, 1001, size=100)\n",
    "mean = np.mean(dataset)\n",
    "median = np.median(dataset)\n",
    "variance = np.var(dataset)\n",
    "std_dev = np.std(dataset)\n",
    "\n",
    "print(\"Dataset statistics:\")\n",
    "print(\"Mean:\", mean)\n",
    "print(\"Median:\", median)\n",
    "print(\"Variance:\", variance)\n",
    "print(\"Standard Deviation:\", std_dev)\n"
   ]
  },
  {
   "cell_type": "code",
   "execution_count": 50,
   "id": "cbb0a3dc-ba85-4b20-86a0-d4f7998a2412",
   "metadata": {},
   "outputs": [
    {
     "name": "stdout",
     "output_type": "stream",
     "text": [
      "25th Percentile: 28.0\n",
      "75th Percentile: 72.5\n"
     ]
    }
   ],
   "source": [
    " # 62: Generate an array of 50 random numbers between 1 and 100. Find the 25th and 75th percentiles of the dataset\n",
    " \n",
    " \n",
    "import numpy as np\n",
    "\n",
    "random_numbers = np.random.randint(1, 101, size=50)\n",
    "percentile_25 = np.percentile(random_numbers, 25)\n",
    "percentile_75 = np.percentile(random_numbers, 75)\n",
    "\n",
    "print(\"25th Percentile:\", percentile_25)\n",
    "print(\"75th Percentile:\", percentile_75)\n"
   ]
  },
  {
   "cell_type": "code",
   "execution_count": 51,
   "id": "5510c0e8-b44d-4153-a0a2-c73466a67603",
   "metadata": {},
   "outputs": [
    {
     "name": "stdout",
     "output_type": "stream",
     "text": [
      "Correlation coefficient matrix:\n",
      " [[ 1.         -0.18164148]\n",
      " [-0.18164148  1.        ]]\n"
     ]
    }
   ],
   "source": [
    " # 63: Create two arrays representing two sets of variables. Compute the correlation coefficient between these arrays using NumPy's corrcoef function\n",
    " \n",
    " \n",
    "import numpy as np\n",
    "\n",
    "array1 = np.random.randint(1, 101, size=50)\n",
    "array2 = np.random.randint(1, 101, size=50)\n",
    "correlation_coefficient = np.corrcoef(array1, array2)\n",
    "\n",
    "print(\"Correlation coefficient matrix:\\n\", correlation_coefficient)\n"
   ]
  },
  {
   "cell_type": "code",
   "execution_count": 52,
   "id": "5252cba7-8d9d-4b75-8c58-794cab1381e8",
   "metadata": {},
   "outputs": [
    {
     "name": "stdout",
     "output_type": "stream",
     "text": [
      "Matrix product:\n",
      " [[19 22]\n",
      " [43 50]]\n"
     ]
    }
   ],
   "source": [
    " # 64: Create two matrices and perform matrix multiplication using NumPy's dot function\n",
    " \n",
    " \n",
    "import numpy as np\n",
    "\n",
    "matrix1 = np.array([[1, 2], [3, 4]])\n",
    "matrix2 = np.array([[5, 6], [7, 8]])\n",
    "matrix_product = np.dot(matrix1, matrix2)\n",
    "\n",
    "print(\"Matrix product:\\n\", matrix_product)\n"
   ]
  },
  {
   "cell_type": "code",
   "execution_count": 53,
   "id": "17e42381-de3d-4028-83b5-22827380c108",
   "metadata": {},
   "outputs": [
    {
     "name": "stdout",
     "output_type": "stream",
     "text": [
      "10th Percentile: 170.1\n",
      "Median: 665.5\n",
      "90th Percentile: 921.6\n",
      "First Quartile (25th Percentile): 451.5\n",
      "Third Quartile (75th Percentile): 809.0\n"
     ]
    }
   ],
   "source": [
    " # 65: Create an array of 50 integers between 10 and 1000. Calculate the 10th, 50th (median), and 90th percentiles along with the first and third quartiles\n",
    " \n",
    " \n",
    "import numpy as np\n",
    "\n",
    "array = np.random.randint(10, 1001, size=50)\n",
    "percentile_10 = np.percentile(array, 10)\n",
    "median = np.median(array)\n",
    "percentile_90 = np.percentile(array, 90)\n",
    "first_quartile = np.percentile(array, 25)\n",
    "third_quartile = np.percentile(array, 75)\n",
    "\n",
    "print(\"10th Percentile:\", percentile_10)\n",
    "print(\"Median:\", median)\n",
    "print(\"90th Percentile:\", percentile_90)\n",
    "print(\"First Quartile (25th Percentile):\", first_quartile)\n",
    "print(\"Third Quartile (75th Percentile):\", third_quartile)\n"
   ]
  },
  {
   "cell_type": "code",
   "execution_count": 54,
   "id": "ce0ff62e-ce27-435c-982b-571e09bc88dc",
   "metadata": {},
   "outputs": [
    {
     "name": "stdout",
     "output_type": "stream",
     "text": [
      "Index of the element: [3]\n"
     ]
    }
   ],
   "source": [
    " # 66: Create a NumPy array of integers and find the index of a specific element\n",
    " \n",
    " \n",
    "import numpy as np\n",
    "\n",
    "array = np.array([1, 2, 3, 4, 5, 6])\n",
    "element_to_find = 4\n",
    "index = np.where(array == element_to_find)[0]\n",
    "\n",
    "print(\"Index of the element:\", index)\n"
   ]
  },
  {
   "cell_type": "code",
   "execution_count": 55,
   "id": "0888d6a6-9878-4e1b-9000-dcb140370ee0",
   "metadata": {},
   "outputs": [
    {
     "name": "stdout",
     "output_type": "stream",
     "text": [
      "Sorted array: [10 14 16 35 59 60 66 77 94 97]\n"
     ]
    }
   ],
   "source": [
    "# 67: Generate a random NumPy array and sort it in ascending order\n",
    " \n",
    " \n",
    "import numpy as np\n",
    "\n",
    "random_array = np.random.randint(1, 101, size=10)\n",
    "sorted_array = np.sort(random_array)\n",
    "\n",
    "print(\"Sorted array:\", sorted_array)\n"
   ]
  },
  {
   "cell_type": "code",
   "execution_count": 56,
   "id": "b31d21ee-081b-49f7-9fe3-c62ee86a9471",
   "metadata": {},
   "outputs": [
    {
     "name": "stdout",
     "output_type": "stream",
     "text": [
      "Filtered array with elements >20: [112  25  60  42  30]\n"
     ]
    }
   ],
   "source": [
    "# 68: Filter elements >20 in the given NumPy array\n",
    " \n",
    " \n",
    "import numpy as np\n",
    "\n",
    "arr = np.array([112, 25, 60, 42, 8, 30])\n",
    "filtered_array = arr[arr > 20]\n",
    "\n",
    "print(\"Filtered array with elements >20:\", filtered_array)\n",
    "\n"
   ]
  },
  {
   "cell_type": "code",
   "execution_count": 57,
   "id": "f0167d05-4cb1-42e7-b0c2-4508ced4373c",
   "metadata": {},
   "outputs": [
    {
     "name": "stdout",
     "output_type": "stream",
     "text": [
      "Array after byte swapping in place: [16777216    65536      256]\n"
     ]
    }
   ],
   "source": [
    " # 72: Perform byte swapping in place using byteswap()\n",
    " \n",
    " \n",
    "import numpy as np\n",
    "\n",
    "arr = np.array([1, 256, 65536], dtype=np.int32)\n",
    "arr.byteswap(inplace=True)\n",
    "print(\"Array after byte swapping in place:\", arr)\n"
   ]
  },
  {
   "cell_type": "code",
   "execution_count": 58,
   "id": "e5bfd388-4074-4b4b-9ec4-70061efeef17",
   "metadata": {},
   "outputs": [
    {
     "name": "stdout",
     "output_type": "stream",
     "text": [
      "Original array: [    1   256 65536]\n",
      "Array after swapping byte order: [    1   256 65536]\n"
     ]
    }
   ],
   "source": [
    " # 73: Swap its byte order without modifying the original array using newbyteorder()\n",
    " \n",
    " \n",
    "import numpy as np\n",
    "\n",
    "arr = np.array([1, 256, 65536], dtype=np.int32)\n",
    "swapped_arr = arr.byteswap().newbyteorder()\n",
    "print(\"Original array:\", arr)\n",
    "print(\"Array after swapping byte order:\", swapped_arr)\n"
   ]
  },
  {
   "cell_type": "code",
   "execution_count": 59,
   "id": "5e67d26e-d089-4a4c-8326-0b93eaf30354",
   "metadata": {},
   "outputs": [
    {
     "name": "stdout",
     "output_type": "stream",
     "text": [
      "Original array: [    1   256 65536]\n",
      "Conditionally byte-swapped array: [    1   256 65536]\n"
     ]
    }
   ],
   "source": [
    " # 74: Swap its byte order conditionally based on system endianness using newbyteorder()\n",
    " \n",
    " \n",
    "import numpy as np\n",
    "\n",
    "arr = np.array([1, 256, 65536], dtype=np.int32)\n",
    "if arr.dtype.byteorder == '=':  # Native byte order\n",
    "    swapped_arr = arr.byteswap().newbyteorder()\n",
    "else:\n",
    "    swapped_arr = arr\n",
    "\n",
    "print(\"Original array:\", arr)\n",
    "print(\"Conditionally byte-swapped array:\", swapped_arr)\n"
   ]
  },
  {
   "cell_type": "code",
   "execution_count": 60,
   "id": "47a6bdda-ecce-4071-959a-fecdd564cdaa",
   "metadata": {},
   "outputs": [
    {
     "name": "stdout",
     "output_type": "stream",
     "text": [
      "Byte order of the array: =\n"
     ]
    }
   ],
   "source": [
    " # 75: Check if byte swapping is necessary for the current system using dtype attribute byteorder\n",
    " \n",
    " \n",
    "import numpy as np\n",
    "\n",
    "arr = np.array([1, 256, 65536], dtype=np.int32)\n",
    "byte_order = arr.dtype.byteorder\n",
    "print(\"Byte order of the array:\", byte_order)\n"
   ]
  },
  {
   "cell_type": "code",
   "execution_count": 61,
   "id": "380fb0b0-2e66-4b58-aa83-50402b99e561",
   "metadata": {},
   "outputs": [
    {
     "name": "stdout",
     "output_type": "stream",
     "text": [
      "Original array: [ 1  2  3  4  5  6  7  8  9 10]\n",
      "Copied and modified array: [100   2   3   4   5   6   7   8   9  10]\n"
     ]
    }
   ],
   "source": [
    " # 76: Create a NumPy array arr1 and a copy of it. Modify an element in the copy and check if it affects arr1\n",
    " \n",
    " \n",
    "import numpy as np\n",
    "\n",
    "arr1 = np.array([1, 2, 3, 4, 5, 6, 7, 8, 9, 10])\n",
    "copy_arr = arr1.copy()\n",
    "copy_arr[0] = 100\n",
    "\n",
    "print(\"Original array:\", arr1)\n",
    "print(\"Copied and modified array:\", copy_arr)\n"
   ]
  },
  {
   "cell_type": "code",
   "execution_count": 62,
   "id": "3b2fabd5-06fe-417a-accf-30310a2d4b39",
   "metadata": {},
   "outputs": [
    {
     "name": "stdout",
     "output_type": "stream",
     "text": [
      "Original matrix:\n",
      " [[999  79  64]\n",
      " [  2  97  44]\n",
      " [ 81  73  12]]\n",
      "View slice after modification:\n",
      " [[999  79]\n",
      " [  2  97]]\n"
     ]
    }
   ],
   "source": [
    " # 77: Create a 2D NumPy array matrix, extract a slice, modify it, and observe changes in the original\n",
    " \n",
    " \n",
    "import numpy as np\n",
    "\n",
    "matrix = np.random.randint(1, 101, size=(3, 3))\n",
    "view_slice = matrix[:2, :2]\n",
    "view_slice[0, 0] = 999\n",
    "\n",
    "print(\"Original matrix:\\n\", matrix)\n",
    "print(\"View slice after modification:\\n\", view_slice)\n"
   ]
  },
  {
   "cell_type": "code",
   "execution_count": 63,
   "id": "592a040f-932b-42b7-ac7d-284558d584ee",
   "metadata": {},
   "outputs": [
    {
     "name": "stdout",
     "output_type": "stream",
     "text": [
      "Original array after broadcasting addition:\n",
      " [[ 6  7  8]\n",
      " [ 9 10 11]\n",
      " [ 7  8  9]\n",
      " [10 11 12]]\n"
     ]
    }
   ],
   "source": [
    " # 78: Create a NumPy array array_a, extract a slice, broadcast addition, and check if it alters the original\n",
    " \n",
    " \n",
    "import numpy as np\n",
    "\n",
    "array_a = np.arange(1, 13).reshape(4, 3)\n",
    "view_b = array_a[:2, :]\n",
    "\n",
    "view_b += 5\n",
    "\n",
    "print(\"Original array after broadcasting addition:\\n\", array_a)"
   ]
  },
  {
   "cell_type": "code",
   "execution_count": 64,
   "id": "ef904698-cb20-4042-aae8-237f7b155b0a",
   "metadata": {},
   "outputs": [
    {
     "name": "stdout",
     "output_type": "stream",
     "text": [
      "Original array after modifying reshaped view:\n",
      " [[999   2   3   4]\n",
      " [  5   6   7   8]]\n",
      "Reshaped view after modification:\n",
      " [[999   2]\n",
      " [  3   4]\n",
      " [  5   6]\n",
      " [  7   8]]\n"
     ]
    }
   ],
   "source": [
    "\n",
    " # 79: Create a NumPy array orig_array, reshape it, modify an element in the reshaped view, and check changes\n",
    " \n",
    " \n",
    "import numpy as np\n",
    "\n",
    "orig_array = np.arange(1, 9).reshape(2, 4)\n",
    "reshaped_view = orig_array.reshape(4, 2)\n",
    "reshaped_view[0, 0] = 999\n",
    "\n",
    "print(\"Original array after modifying reshaped view:\\n\", orig_array)\n",
    "print(\"Reshaped view after modification:\\n\", reshaped_view)\n"
   ]
  },
  {
   "cell_type": "code",
   "execution_count": 65,
   "id": "6a4f983d-80da-4625-a84a-bce60558f042",
   "metadata": {},
   "outputs": [
    {
     "name": "stdout",
     "output_type": "stream",
     "text": [
      "Original data array:\n",
      " [[ 8  4  9 10]\n",
      " [ 4  7  2  3]\n",
      " [ 8  5  2  6]]\n",
      "Data copy after modification:\n",
      " [999   9  10   7   8   6]\n"
     ]
    }
   ],
   "source": [
    " # 80: Create a NumPy array data, extract a copy of elements greater than 5, modify it, and verify changes\n",
    " \n",
    " \n",
    "import numpy as np\n",
    "\n",
    "data = np.random.randint(1, 11, size=(3, 4))\n",
    "data_copy = data[data > 5].copy()\n",
    "data_copy[0] = 999\n",
    "\n",
    "print(\"Original data array:\\n\", data)\n",
    "print(\"Data copy after modification:\\n\", data_copy)\n"
   ]
  },
  {
   "cell_type": "code",
   "execution_count": 66,
   "id": "a8ddfc2e-0cd2-49ce-b20f-f17cfdfa66f4",
   "metadata": {},
   "outputs": [
    {
     "name": "stdout",
     "output_type": "stream",
     "text": [
      "Matrix A:\n",
      " [[1 2 3]\n",
      " [4 5 6]\n",
      " [7 8 9]]\n",
      "Matrix B:\n",
      " [[9 8 7]\n",
      " [6 5 4]\n",
      " [3 2 1]]\n",
      "Addition of A and B:\n",
      " [[10 10 10]\n",
      " [10 10 10]\n",
      " [10 10 10]]\n",
      "Subtraction of A and B:\n",
      " [[-8 -6 -4]\n",
      " [-2  0  2]\n",
      " [ 4  6  8]]\n"
     ]
    }
   ],
   "source": [
    " # 81: Create two matrices A and B of identical shape containing integers and perform addition and subtraction operations between them\n",
    " \n",
    " \n",
    "import numpy as np\n",
    "\n",
    "A = np.array([[1, 2, 3], [4, 5, 6], [7, 8, 9]])\n",
    "B = np.array([[9, 8, 7], [6, 5, 4], [3, 2, 1]])\n",
    "\n",
    "addition_result = A + B\n",
    "subtraction_result = A - B\n",
    "\n",
    "print(\"Matrix A:\\n\", A)\n",
    "print(\"Matrix B:\\n\", B)\n",
    "print(\"Addition of A and B:\\n\", addition_result)\n",
    "print(\"Subtraction of A and B:\\n\", subtraction_result)\n"
   ]
  },
  {
   "cell_type": "code",
   "execution_count": 67,
   "id": "464e21d0-710a-468d-846d-068234a49ef0",
   "metadata": {},
   "outputs": [
    {
     "name": "stdout",
     "output_type": "stream",
     "text": [
      "Matrix C:\n",
      " [[1 2]\n",
      " [3 4]\n",
      " [5 6]]\n",
      "Matrix D:\n",
      " [[ 7  8  9 10]\n",
      " [11 12 13 14]]\n",
      "Matrix multiplication of C and D:\n",
      " [[ 29  32  35  38]\n",
      " [ 65  72  79  86]\n",
      " [101 112 123 134]]\n"
     ]
    }
   ],
   "source": [
    " # 82: Generate two matrices C (3x2) and D (2x4) and perform matrix multiplication\n",
    " \n",
    " \n",
    "import numpy as np\n",
    "\n",
    "C = np.array([[1, 2], [3, 4], [5, 6]])\n",
    "D = np.array([[7, 8, 9, 10], [11, 12, 13, 14]])\n",
    "\n",
    "matrix_multiplication_result = np.dot(C, D)\n",
    "\n",
    "print(\"Matrix C:\\n\", C)\n",
    "print(\"Matrix D:\\n\", D)\n",
    "print(\"Matrix multiplication of C and D:\\n\", matrix_multiplication_result)\n"
   ]
  },
  {
   "cell_type": "code",
   "execution_count": 68,
   "id": "1238e527-fd25-4260-bcf7-4455dfa8026f",
   "metadata": {},
   "outputs": [
    {
     "name": "stdout",
     "output_type": "stream",
     "text": [
      "Matrix E:\n",
      " [[1 2 3]\n",
      " [4 5 6]\n",
      " [7 8 9]]\n",
      "Transpose of E:\n",
      " [[1 4 7]\n",
      " [2 5 8]\n",
      " [3 6 9]]\n"
     ]
    }
   ],
   "source": [
    " # 83: Create a matrix E and find its transpose\n",
    " \n",
    " \n",
    "import numpy as np\n",
    "\n",
    "E = np.array([[1, 2, 3], [4, 5, 6], [7, 8, 9]])\n",
    "transpose_E = np.transpose(E)\n",
    "\n",
    "print(\"Matrix E:\\n\", E)\n",
    "print(\"Transpose of E:\\n\", transpose_E)\n"
   ]
  },
  {
   "cell_type": "code",
   "execution_count": 69,
   "id": "47ff48cb-fb18-40ea-acd5-5326d6d80054",
   "metadata": {},
   "outputs": [
    {
     "name": "stdout",
     "output_type": "stream",
     "text": [
      "Matrix F:\n",
      " [[1 2 3]\n",
      " [0 1 4]\n",
      " [5 6 0]]\n",
      "Determinant of F: 0.9999999999999964\n"
     ]
    }
   ],
   "source": [
    " # 84: Generate a square matrix F and compute its determinant\n",
    " \n",
    " \n",
    "import numpy as np\n",
    "\n",
    "F = np.array([[1, 2, 3], [0, 1, 4], [5, 6, 0]])\n",
    "determinant_F = np.linalg.det(F)\n",
    "\n",
    "print(\"Matrix F:\\n\", F)\n",
    "print(\"Determinant of F:\", determinant_F)\n"
   ]
  },
  {
   "cell_type": "code",
   "execution_count": 70,
   "id": "33a1dfe2-c2af-4845-bbbf-1b8b3b3fc7c3",
   "metadata": {},
   "outputs": [
    {
     "name": "stdout",
     "output_type": "stream",
     "text": [
      "Matrix G:\n",
      " [[4 7]\n",
      " [2 6]]\n",
      "Inverse of G:\n",
      " [[ 0.6 -0.7]\n",
      " [-0.2  0.4]]\n"
     ]
    }
   ],
   "source": [
    " # 85: Create a square matrix G and find its inverse\n",
    " \n",
    " \n",
    "import numpy as np\n",
    "\n",
    "G = np.array([[4, 7], [2, 6]])\n",
    "inverse_G = np.linalg.inv(G)\n",
    "\n",
    "print(\"Matrix G:\\n\", G)\n",
    "print(\"Inverse of G:\\n\", inverse_G)"
   ]
  },
  {
   "cell_type": "code",
   "execution_count": null,
   "id": "cfbcd52b-95ea-4acb-9141-7de11295821e",
   "metadata": {},
   "outputs": [],
   "source": []
  }
 ],
 "metadata": {
  "kernelspec": {
   "display_name": "Python 3 (ipykernel)",
   "language": "python",
   "name": "python3"
  },
  "language_info": {
   "codemirror_mode": {
    "name": "ipython",
    "version": 3
   },
   "file_extension": ".py",
   "mimetype": "text/x-python",
   "name": "python",
   "nbconvert_exporter": "python",
   "pygments_lexer": "ipython3",
   "version": "3.10.8"
  }
 },
 "nbformat": 4,
 "nbformat_minor": 5
}
